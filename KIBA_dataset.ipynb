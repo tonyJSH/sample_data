{
 "cells": [
  {
   "cell_type": "markdown",
   "id": "cf12fd07",
   "metadata": {
    "id": "kld6-xjJy8xN"
   },
   "source": [
    "# import"
   ]
  },
  {
   "cell_type": "code",
   "execution_count": 1,
   "id": "1be9156c",
   "metadata": {},
   "outputs": [],
   "source": [
    "import numpy as np\n",
    "from DeepPurpose.utils import *"
   ]
  },
  {
   "cell_type": "markdown",
   "id": "63a619b8",
   "metadata": {},
   "source": [
    "## 데이터 불러오기"
   ]
  },
  {
   "cell_type": "code",
   "execution_count": 2,
   "id": "c8f18925",
   "metadata": {},
   "outputs": [],
   "source": [
    "# 파일 이름 목록 생성\n",
    "file_names = [f\"./data/KIBA_X_target_part{i}.npy\" for i in range(105)]\n",
    "\n",
    "# 각 파일을 읽어와 리스트에 저장\n",
    "arrays = [np.load(file) for file in file_names]\n",
    "\n",
    "# 리스트에 저장된 모든 어레이를 하나로 합침\n",
    "X_target = np.concatenate(arrays)\n",
    "\n",
    "file_names = [f\"./data/KIBA_X_drug_part{i}.npy\" for i in range(18)]\n",
    "\n",
    "arrays = [np.load(file) for file in file_names]\n",
    "\n",
    "X_drug = np.concatenate(arrays)\n",
    "\n",
    "y = np.load('./data/KIBA_y.npy')"
   ]
  },
  {
   "cell_type": "code",
   "execution_count": 3,
   "id": "ff9ea0a8",
   "metadata": {},
   "outputs": [
    {
     "name": "stdout",
     "output_type": "stream",
     "text": [
      "drug :  ['COC1=C(C=C2C(=C1)CCN=C2C3=CC(=C(C=C3)Cl)Cl)Cl'\n",
      " 'COC1=C(C=C2C(=C1)CCN=C2C3=CC(=C(C=C3)Cl)Cl)Cl'\n",
      " 'COC1=C(C=C2C(=C1)CCN=C2C3=CC(=C(C=C3)Cl)Cl)Cl']\n",
      "\n",
      "target :  MTVKTEAAKGTLTYSRMRGMVAILIAFMKQRRMGLNDFIQKIANNSYACKHPEVQSILKISQPQEPELMNANPSPPPSPSQQINLGPSSNPHAKPSDFHFLKVIGKGSFGKVLLARHKAEEVFYAVKVLQKKAILKKKEEKHIMSERNVLLKNVKHPFLVGLHFSFQTADKLYFVLDYINGGELFYHLQRERCFLEPRARFYAAEIASALGYLHSLNIVYRDLKPENILLDSQGHIVLTDFGLCKENIEHNSTTSTFCGTPEYLAPEVLHKQPYDRTVDWWCLGAVLYEMLYGLPPFYSRNTAEMYDNILNKPLQLKPNITNSARHLLEGLLQKDRTKRLGAKDDFMEIKSHVFFSLINWDDLINKKITPPFNPNVSGPNDLRHFDPEFTEEPVPNSIGKSPDSVLVTASVKEAAEAFLGFSYAPPTDSFL\n",
      "\n",
      "Interaction :  [0 0 0]\n",
      "\n"
     ]
    }
   ],
   "source": [
    "# 화합물 데이터 확인\n",
    "print(\"drug : \", X_drug[:3], end=\"\\n\\n\")\n",
    "\n",
    "# 타겟 단백질 데이터 확인\n",
    "print(\"target : \",X_target[0], end=\"\\n\\n\")\n",
    "\n",
    "# 결합 여부 확인 (0이면 결합 안함, 1이면 결합)\n",
    "print(\"Interaction : \",y[:3], end=\"\\n\\n\")"
   ]
  },
  {
   "cell_type": "markdown",
   "id": "c7cd1f71",
   "metadata": {},
   "source": [
    "## MLP 모델 입력에 맞도록 전처리 (DeepPurpose의 data_process함수 사용)"
   ]
  },
  {
   "cell_type": "code",
   "execution_count": 8,
   "id": "0d53ebdf",
   "metadata": {},
   "outputs": [
    {
     "name": "stdout",
     "output_type": "stream",
     "text": [
      "Drug Target Interaction Prediction Mode...\n",
      "in total: 118254 drug-target pairs\n",
      "encoding drug...\n",
      "unique drugs: 2068\n",
      "encoding protein...\n",
      "unique target sequence: 229\n",
      "-- Encoding AAC takes time. Time Reference: 24s for ~100 sequences in a CPU.\t\t\t\t Calculate your time by the unique target sequence #, instead of the entire dataset.\n",
      "splitting dataset...\n",
      "Done.\n"
     ]
    },
    {
     "data": {
      "text/html": [
       "<div>\n",
       "<style scoped>\n",
       "    .dataframe tbody tr th:only-of-type {\n",
       "        vertical-align: middle;\n",
       "    }\n",
       "\n",
       "    .dataframe tbody tr th {\n",
       "        vertical-align: top;\n",
       "    }\n",
       "\n",
       "    .dataframe thead th {\n",
       "        text-align: right;\n",
       "    }\n",
       "</style>\n",
       "<table border=\"1\" class=\"dataframe\">\n",
       "  <thead>\n",
       "    <tr style=\"text-align: right;\">\n",
       "      <th></th>\n",
       "      <th>SMILES</th>\n",
       "      <th>Target Sequence</th>\n",
       "      <th>Label</th>\n",
       "      <th>drug_encoding</th>\n",
       "      <th>target_encoding</th>\n",
       "    </tr>\n",
       "  </thead>\n",
       "  <tbody>\n",
       "    <tr>\n",
       "      <th>0</th>\n",
       "      <td>COC1=C(C=C2C(=C1)CCN=C2C3=CC(=C(C=C3)Cl)Cl)Cl</td>\n",
       "      <td>MTVKTEAAKGTLTYSRMRGMVAILIAFMKQRRMGLNDFIQKIANNS...</td>\n",
       "      <td>0</td>\n",
       "      <td>[0.0, 0.0, 0.0, 0.0, 0.0, 0.0, 0.0, 0.0, 0.0, ...</td>\n",
       "      <td>[6.497, 3.944, 5.8, 4.408, 1.16, 6.265, 3.248,...</td>\n",
       "    </tr>\n",
       "    <tr>\n",
       "      <th>1</th>\n",
       "      <td>COC1=C(C=C2C(=C1)CCN=C2C3=CC(=C(C=C3)Cl)Cl)Cl</td>\n",
       "      <td>MRPSGTAGAALLALLAALCPASRALEEKKVCQGTSNKLTQLGTFED...</td>\n",
       "      <td>0</td>\n",
       "      <td>[0.0, 0.0, 0.0, 0.0, 0.0, 0.0, 0.0, 0.0, 0.0, ...</td>\n",
       "      <td>[5.95, 4.959, 5.455, 5.041, 4.959, 6.364, 4.05...</td>\n",
       "    </tr>\n",
       "    <tr>\n",
       "      <th>2</th>\n",
       "      <td>COC1=C(C=C2C(=C1)CCN=C2C3=CC(=C(C=C3)Cl)Cl)Cl</td>\n",
       "      <td>MELAALCRWGLLLALLPPGAASTQVCTGTDMKLRLPASPETHLDML...</td>\n",
       "      <td>0</td>\n",
       "      <td>[0.0, 0.0, 0.0, 0.0, 0.0, 0.0, 0.0, 0.0, 0.0, ...</td>\n",
       "      <td>[6.614, 5.657, 3.267, 5.179, 4.701, 6.135, 4.9...</td>\n",
       "    </tr>\n",
       "  </tbody>\n",
       "</table>\n",
       "</div>"
      ],
      "text/plain": [
       "                                          SMILES  \\\n",
       "0  COC1=C(C=C2C(=C1)CCN=C2C3=CC(=C(C=C3)Cl)Cl)Cl   \n",
       "1  COC1=C(C=C2C(=C1)CCN=C2C3=CC(=C(C=C3)Cl)Cl)Cl   \n",
       "2  COC1=C(C=C2C(=C1)CCN=C2C3=CC(=C(C=C3)Cl)Cl)Cl   \n",
       "\n",
       "                                     Target Sequence  Label  \\\n",
       "0  MTVKTEAAKGTLTYSRMRGMVAILIAFMKQRRMGLNDFIQKIANNS...      0   \n",
       "1  MRPSGTAGAALLALLAALCPASRALEEKKVCQGTSNKLTQLGTFED...      0   \n",
       "2  MELAALCRWGLLLALLPPGAASTQVCTGTDMKLRLPASPETHLDML...      0   \n",
       "\n",
       "                                       drug_encoding  \\\n",
       "0  [0.0, 0.0, 0.0, 0.0, 0.0, 0.0, 0.0, 0.0, 0.0, ...   \n",
       "1  [0.0, 0.0, 0.0, 0.0, 0.0, 0.0, 0.0, 0.0, 0.0, ...   \n",
       "2  [0.0, 0.0, 0.0, 0.0, 0.0, 0.0, 0.0, 0.0, 0.0, ...   \n",
       "\n",
       "                                     target_encoding  \n",
       "0  [6.497, 3.944, 5.8, 4.408, 1.16, 6.265, 3.248,...  \n",
       "1  [5.95, 4.959, 5.455, 5.041, 4.959, 6.364, 4.05...  \n",
       "2  [6.614, 5.657, 3.267, 5.179, 4.701, 6.135, 4.9...  "
      ]
     },
     "execution_count": 8,
     "metadata": {},
     "output_type": "execute_result"
    }
   ],
   "source": [
    "# MLP 모델을 위한 encoding 방식 지정 (입력 특성으로 1차원 벡터를 사용)\n",
    "drug_encoding = 'Morgan'\n",
    "target_encoding = 'AAC'\n",
    "train, val, test = data_process(X_drug, X_target, y,\n",
    "                                drug_encoding, target_encoding,\n",
    "                                split_method='random', frac=[0.8,0.1,0.1])\n",
    "train[:3]"
   ]
  },
  {
   "cell_type": "markdown",
   "id": "c2873b3b",
   "metadata": {},
   "source": [
    "## CNN 모델 입력에 맞도록 전처리 (DeepPurpose의 data_process함수 사용)"
   ]
  },
  {
   "cell_type": "code",
   "execution_count": 9,
   "id": "b33186b8",
   "metadata": {},
   "outputs": [
    {
     "name": "stdout",
     "output_type": "stream",
     "text": [
      "Drug Target Interaction Prediction Mode...\n",
      "in total: 118254 drug-target pairs\n",
      "encoding drug...\n",
      "unique drugs: 2068\n",
      "encoding protein...\n",
      "unique target sequence: 229\n",
      "splitting dataset...\n",
      "Done.\n"
     ]
    },
    {
     "data": {
      "text/html": [
       "<div>\n",
       "<style scoped>\n",
       "    .dataframe tbody tr th:only-of-type {\n",
       "        vertical-align: middle;\n",
       "    }\n",
       "\n",
       "    .dataframe tbody tr th {\n",
       "        vertical-align: top;\n",
       "    }\n",
       "\n",
       "    .dataframe thead th {\n",
       "        text-align: right;\n",
       "    }\n",
       "</style>\n",
       "<table border=\"1\" class=\"dataframe\">\n",
       "  <thead>\n",
       "    <tr style=\"text-align: right;\">\n",
       "      <th></th>\n",
       "      <th>SMILES</th>\n",
       "      <th>Target Sequence</th>\n",
       "      <th>Label</th>\n",
       "      <th>drug_encoding</th>\n",
       "      <th>target_encoding</th>\n",
       "    </tr>\n",
       "  </thead>\n",
       "  <tbody>\n",
       "    <tr>\n",
       "      <th>0</th>\n",
       "      <td>COC1=C(C=C2C(=C1)CCN=C2C3=CC(=C(C=C3)Cl)Cl)Cl</td>\n",
       "      <td>MTVKTEAAKGTLTYSRMRGMVAILIAFMKQRRMGLNDFIQKIANNS...</td>\n",
       "      <td>0</td>\n",
       "      <td>[C, O, C, 1, =, C, (, C, =, C, 2, C, (, =, C, ...</td>\n",
       "      <td>[M, T, V, K, T, E, A, A, K, G, T, L, T, Y, S, ...</td>\n",
       "    </tr>\n",
       "    <tr>\n",
       "      <th>1</th>\n",
       "      <td>COC1=C(C=C2C(=C1)CCN=C2C3=CC(=C(C=C3)Cl)Cl)Cl</td>\n",
       "      <td>MRPSGTAGAALLALLAALCPASRALEEKKVCQGTSNKLTQLGTFED...</td>\n",
       "      <td>0</td>\n",
       "      <td>[C, O, C, 1, =, C, (, C, =, C, 2, C, (, =, C, ...</td>\n",
       "      <td>[M, R, P, S, G, T, A, G, A, A, L, L, A, L, L, ...</td>\n",
       "    </tr>\n",
       "    <tr>\n",
       "      <th>2</th>\n",
       "      <td>COC1=C(C=C2C(=C1)CCN=C2C3=CC(=C(C=C3)Cl)Cl)Cl</td>\n",
       "      <td>MELAALCRWGLLLALLPPGAASTQVCTGTDMKLRLPASPETHLDML...</td>\n",
       "      <td>0</td>\n",
       "      <td>[C, O, C, 1, =, C, (, C, =, C, 2, C, (, =, C, ...</td>\n",
       "      <td>[M, E, L, A, A, L, C, R, W, G, L, L, L, A, L, ...</td>\n",
       "    </tr>\n",
       "  </tbody>\n",
       "</table>\n",
       "</div>"
      ],
      "text/plain": [
       "                                          SMILES  \\\n",
       "0  COC1=C(C=C2C(=C1)CCN=C2C3=CC(=C(C=C3)Cl)Cl)Cl   \n",
       "1  COC1=C(C=C2C(=C1)CCN=C2C3=CC(=C(C=C3)Cl)Cl)Cl   \n",
       "2  COC1=C(C=C2C(=C1)CCN=C2C3=CC(=C(C=C3)Cl)Cl)Cl   \n",
       "\n",
       "                                     Target Sequence  Label  \\\n",
       "0  MTVKTEAAKGTLTYSRMRGMVAILIAFMKQRRMGLNDFIQKIANNS...      0   \n",
       "1  MRPSGTAGAALLALLAALCPASRALEEKKVCQGTSNKLTQLGTFED...      0   \n",
       "2  MELAALCRWGLLLALLPPGAASTQVCTGTDMKLRLPASPETHLDML...      0   \n",
       "\n",
       "                                       drug_encoding  \\\n",
       "0  [C, O, C, 1, =, C, (, C, =, C, 2, C, (, =, C, ...   \n",
       "1  [C, O, C, 1, =, C, (, C, =, C, 2, C, (, =, C, ...   \n",
       "2  [C, O, C, 1, =, C, (, C, =, C, 2, C, (, =, C, ...   \n",
       "\n",
       "                                     target_encoding  \n",
       "0  [M, T, V, K, T, E, A, A, K, G, T, L, T, Y, S, ...  \n",
       "1  [M, R, P, S, G, T, A, G, A, A, L, L, A, L, L, ...  \n",
       "2  [M, E, L, A, A, L, C, R, W, G, L, L, L, A, L, ...  "
      ]
     },
     "execution_count": 9,
     "metadata": {},
     "output_type": "execute_result"
    }
   ],
   "source": [
    "drug_encoding = 'CNN'\n",
    "target_encoding = 'CNN'\n",
    "train, val, test = data_process(X_drug, X_target, y,\n",
    "                                drug_encoding, target_encoding,\n",
    "                                split_method='random',frac=[0.8,0.1,0.1])\n",
    "train[:3]"
   ]
  },
  {
   "cell_type": "code",
   "execution_count": null,
   "id": "70e813de",
   "metadata": {},
   "outputs": [],
   "source": []
  }
 ],
 "metadata": {
  "kernelspec": {
   "display_name": "DeepPurpose",
   "language": "python",
   "name": "deeppurpose"
  },
  "language_info": {
   "codemirror_mode": {
    "name": "ipython",
    "version": 3
   },
   "file_extension": ".py",
   "mimetype": "text/x-python",
   "name": "python",
   "nbconvert_exporter": "python",
   "pygments_lexer": "ipython3",
   "version": "3.10.0"
  }
 },
 "nbformat": 4,
 "nbformat_minor": 5
}
