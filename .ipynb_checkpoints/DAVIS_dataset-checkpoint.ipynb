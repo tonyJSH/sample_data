{
 "cells": [
  {
   "cell_type": "markdown",
   "id": "7c0b0a33",
   "metadata": {
    "id": "GoXRwSPOdZOG"
   },
   "source": [
    "# 약물-단백질 상호작용\n",
    "\n",
    "- 약물과 단백질의 상호작용 정도를 점수화한 데이터를 이용하여 상호작용을 예측하는 머신러닝 모델을 구현\n",
    "- 약물과 단백질 데이터를 각각 입력으로 사용한다\n",
    "    1. 약물의 특성과 단백질(타겟)의 특성을 각각 추출하는 모델 구성\n",
    "    2. 추출된 특성을 **옆으로 붙인(concatenate)** 값을 만드고 이를 DTI 예측 모델 입력으로 사용한다\n",
    "    3. 상호작용은 이진분류(0/1) 예측(확률) 또는 상호작용 점수 회귀 예측을 하게 된다.\n",
    "- 약물 재창출 예제\n",
    "\n",
    "- [DeepPurpose](https://deeppurpose.readthedocs.io/en/latest/notes/introduction.html) 모듈 사용\n",
    " - 약물-단백질 상호작용 예측 모델 구현 기능을 제공\n",
    " - 가상선별과 약물재창출을 위한 딥러닝 도구"
   ]
  },
  {
   "cell_type": "markdown",
   "id": "cf12fd07",
   "metadata": {
    "id": "kld6-xjJy8xN"
   },
   "source": [
    "# import"
   ]
  },
  {
   "cell_type": "code",
   "execution_count": 2,
   "id": "570dd98a",
   "metadata": {},
   "outputs": [],
   "source": [
    "import numpy as np\n",
    "from DeepPurpose.utils import *"
   ]
  },
  {
   "cell_type": "markdown",
   "id": "2a76157d",
   "metadata": {},
   "source": [
    "## 데이터 불러오기"
   ]
  },
  {
   "cell_type": "code",
   "execution_count": 3,
   "id": "d5ab6d56",
   "metadata": {},
   "outputs": [],
   "source": [
    "# 파일 이름 목록 생성\n",
    "file_names = [f\"./data/DAVIS_X_target_part{i}.npy\" for i in range(15)]\n",
    "\n",
    "# 각 파일을 읽어와 리스트에 저장\n",
    "arrays = [np.load(file) for file in file_names]\n",
    "\n",
    "# 리스트에 저장된 모든 어레이를 하나로 합침\n",
    "X_target = np.concatenate(arrays)\n",
    "\n",
    "X_drug = np.load('./data/DAVIS_X_drug.npy')\n",
    "y = np.load('./data/DAVIS_y.npy')"
   ]
  },
  {
   "cell_type": "code",
   "execution_count": 4,
   "id": "dedeac86",
   "metadata": {},
   "outputs": [
    {
     "name": "stdout",
     "output_type": "stream",
     "text": [
      "drug :  ['CC1=C2C=C(C=CC2=NN1)C3=CC(=CN=C3)OCC(CC4=CC=CC=C4)N'\n",
      " 'CC1=C2C=C(C=CC2=NN1)C3=CC(=CN=C3)OCC(CC4=CC=CC=C4)N'\n",
      " 'CC1=C2C=C(C=CC2=NN1)C3=CC(=CN=C3)OCC(CC4=CC=CC=C4)N']\n",
      "\n",
      "target :  MKKFFDSRREQGGSGLGSGSSGGGGSTSGLGSGYIGRVFGIGRQQVTVDEVLAEGGFAIVFLVRTSNGMKCALKRMFVNNEHDLQVCKREIQIMRDLSGHKNIVGYIDSSINNVSSGDVWEVLILMDFCRGGQVVNLMNQRLQTGFTENEVLQIFCDTCEAVARLHQCKTPIIHRDLKVENILLHDRGHYVLCDFGSATNKFQNPQTEGVNAVEDEIKKYTTLSYRAPEMVNLYSGKIITTKADIWALGCLLYKLCYFTLPFGESQVAICDGNFTIPDNSRYSQDMHCLIRYMLEPDPDKRPDIYQVSYFSFKLLKKECPIPNVQNSPIPAKLPEPVKASEAAAKKTQPKARLTDPIPTTETSIAPRQRPKAGQTQPNPGILPIQPALTPRKRATVQPPPQAAGSSNQPGLLASVPQPKPQAPPSQPLPQTQAKQPQAPPTPQQTPSTQAQGLPAQAQATPQHQQQLFLKQQQQQQQPPPAQQQPAGTFYQQQQAQTQQFQAVHPATQKPAIAQFPVVSQGGSQQQLMQNFYQQQQQQQQQQQQQQLATALHQQQLMTQQAALQQKPTMAAGQQPQPQPAAAPQPAPAQEPAIQAPVRQQPKVQTTPPPAVQGQKVGSLTPPSSPKTQRAGHRRILSDVTHSAVFGVPASKSTQLLQAAAAEASLNKSKSATTTPSGSPRTSQQNVYNPSEGSTWNPFDDDNFSKLTAEELLNKDFAKLGEGKHPEKLGGSAESLIPGFQSTQGDAFATTSFSAGTAEKRKGGQTVDSGLPLLSVSDPFIPLQVPDAPEKLIEGLKSPDTSLLLPDLLPMTDPFGSTSDAVIEKADVAVESLIPGLEPPVPQRLPSQTESVTSNRTDSLTGEDSLLDCSLLSNPTTDLLEEFAPTAISAPVHKAAEDSNLISGFDVPEGSDKVAEDEFDPIPVLITKNPQGGHSRNSSGSSESSLPNLARSLLLVDQLIDL\n",
      "\n",
      "Interaction :  [0 0 0]\n",
      "\n"
     ]
    }
   ],
   "source": [
    "# 화합물 데이터 확인\n",
    "print(\"drug : \", X_drug[:3], end=\"\\n\\n\")\n",
    "\n",
    "# 타겟 단백질 데이터 확인\n",
    "print(\"target : \",X_target[0], end=\"\\n\\n\")\n",
    "\n",
    "# 결합 여부 확인 (0이면 결합 안함, 1이면 결합)\n",
    "print(\"Interaction : \",y[:3], end=\"\\n\\n\")"
   ]
  },
  {
   "cell_type": "markdown",
   "id": "cd6709c2",
   "metadata": {},
   "source": [
    "## MLP 모델 입력에 맞도록 전처리 (DeepPurpose의 data_process함수 사용)"
   ]
  },
  {
   "cell_type": "code",
   "execution_count": 19,
   "id": "87f54e2d",
   "metadata": {},
   "outputs": [
    {
     "name": "stdout",
     "output_type": "stream",
     "text": [
      "Drug Target Interaction Prediction Mode...\n",
      "in total: 30056 drug-target pairs\n",
      "encoding drug...\n",
      "unique drugs: 68\n",
      "encoding protein...\n",
      "unique target sequence: 379\n",
      "-- Encoding AAC takes time. Time Reference: 24s for ~100 sequences in a CPU.\t\t\t\t Calculate your time by the unique target sequence #, instead of the entire dataset.\n",
      "splitting dataset...\n",
      "Done.\n"
     ]
    },
    {
     "data": {
      "text/html": [
       "<div>\n",
       "<style scoped>\n",
       "    .dataframe tbody tr th:only-of-type {\n",
       "        vertical-align: middle;\n",
       "    }\n",
       "\n",
       "    .dataframe tbody tr th {\n",
       "        vertical-align: top;\n",
       "    }\n",
       "\n",
       "    .dataframe thead th {\n",
       "        text-align: right;\n",
       "    }\n",
       "</style>\n",
       "<table border=\"1\" class=\"dataframe\">\n",
       "  <thead>\n",
       "    <tr style=\"text-align: right;\">\n",
       "      <th></th>\n",
       "      <th>SMILES</th>\n",
       "      <th>Target Sequence</th>\n",
       "      <th>Label</th>\n",
       "      <th>drug_encoding</th>\n",
       "      <th>target_encoding</th>\n",
       "    </tr>\n",
       "  </thead>\n",
       "  <tbody>\n",
       "    <tr>\n",
       "      <th>0</th>\n",
       "      <td>CC1=C2C=C(C=CC2=NN1)C3=CC(=CN=C3)OCC(CC4=CC=CC...</td>\n",
       "      <td>MKKFFDSRREQGGSGLGSGSSGGGGSTSGLGSGYIGRVFGIGRQQV...</td>\n",
       "      <td>0</td>\n",
       "      <td>[0.0, 1.0, 0.0, 0.0, 0.0, 0.0, 0.0, 0.0, 0.0, ...</td>\n",
       "      <td>[8.221, 3.33, 3.434, 4.683, 1.353, 4.475, 11.6...</td>\n",
       "    </tr>\n",
       "    <tr>\n",
       "      <th>1</th>\n",
       "      <td>CC1=C2C=C(C=CC2=NN1)C3=CC(=CN=C3)OCC(CC4=CC=CC...</td>\n",
       "      <td>PFWKILNPLLERGTYYYFMGQQPGKVLGDQRRPSLPALHFIKGAGK...</td>\n",
       "      <td>0</td>\n",
       "      <td>[0.0, 1.0, 0.0, 0.0, 0.0, 0.0, 0.0, 0.0, 0.0, ...</td>\n",
       "      <td>[8.483, 5.827, 3.599, 3.685, 1.028, 7.798, 3.0...</td>\n",
       "    </tr>\n",
       "    <tr>\n",
       "      <th>2</th>\n",
       "      <td>CC1=C2C=C(C=CC2=NN1)C3=CC(=CN=C3)OCC(CC4=CC=CC...</td>\n",
       "      <td>PFWKILNPLLERGTYYYFMGQQPGKVLGDQRRPSLPALHFIKGAGK...</td>\n",
       "      <td>0</td>\n",
       "      <td>[0.0, 1.0, 0.0, 0.0, 0.0, 0.0, 0.0, 0.0, 0.0, ...</td>\n",
       "      <td>[8.483, 5.827, 3.599, 3.685, 1.028, 7.798, 3.0...</td>\n",
       "    </tr>\n",
       "  </tbody>\n",
       "</table>\n",
       "</div>"
      ],
      "text/plain": [
       "                                              SMILES  \\\n",
       "0  CC1=C2C=C(C=CC2=NN1)C3=CC(=CN=C3)OCC(CC4=CC=CC...   \n",
       "1  CC1=C2C=C(C=CC2=NN1)C3=CC(=CN=C3)OCC(CC4=CC=CC...   \n",
       "2  CC1=C2C=C(C=CC2=NN1)C3=CC(=CN=C3)OCC(CC4=CC=CC...   \n",
       "\n",
       "                                     Target Sequence  Label  \\\n",
       "0  MKKFFDSRREQGGSGLGSGSSGGGGSTSGLGSGYIGRVFGIGRQQV...      0   \n",
       "1  PFWKILNPLLERGTYYYFMGQQPGKVLGDQRRPSLPALHFIKGAGK...      0   \n",
       "2  PFWKILNPLLERGTYYYFMGQQPGKVLGDQRRPSLPALHFIKGAGK...      0   \n",
       "\n",
       "                                       drug_encoding  \\\n",
       "0  [0.0, 1.0, 0.0, 0.0, 0.0, 0.0, 0.0, 0.0, 0.0, ...   \n",
       "1  [0.0, 1.0, 0.0, 0.0, 0.0, 0.0, 0.0, 0.0, 0.0, ...   \n",
       "2  [0.0, 1.0, 0.0, 0.0, 0.0, 0.0, 0.0, 0.0, 0.0, ...   \n",
       "\n",
       "                                     target_encoding  \n",
       "0  [8.221, 3.33, 3.434, 4.683, 1.353, 4.475, 11.6...  \n",
       "1  [8.483, 5.827, 3.599, 3.685, 1.028, 7.798, 3.0...  \n",
       "2  [8.483, 5.827, 3.599, 3.685, 1.028, 7.798, 3.0...  "
      ]
     },
     "execution_count": 19,
     "metadata": {},
     "output_type": "execute_result"
    }
   ],
   "source": [
    "# MLP 모델을 위한 encoding 방식 지정 (입력 특성으로 1차원 벡터를 사용)\n",
    "drug_encoding = 'Morgan'\n",
    "target_encoding = 'AAC'\n",
    "train, val, test = data_process(X_drug, X_target, y,\n",
    "                                drug_encoding, target_encoding,\n",
    "                                split_method='random', frac=[0.8,0.1,0.1])\n",
    "train[:3]"
   ]
  },
  {
   "cell_type": "markdown",
   "id": "38f035f8",
   "metadata": {},
   "source": [
    "## CNN 모델 입력에 맞도록 전처리 (DeepPurpose의 data_process함수 사용)"
   ]
  },
  {
   "cell_type": "code",
   "execution_count": 20,
   "id": "8261c3d8",
   "metadata": {},
   "outputs": [
    {
     "name": "stdout",
     "output_type": "stream",
     "text": [
      "Drug Target Interaction Prediction Mode...\n",
      "in total: 30056 drug-target pairs\n",
      "encoding drug...\n",
      "unique drugs: 68\n",
      "encoding protein...\n",
      "unique target sequence: 379\n",
      "splitting dataset...\n",
      "Done.\n"
     ]
    },
    {
     "data": {
      "text/html": [
       "<div>\n",
       "<style scoped>\n",
       "    .dataframe tbody tr th:only-of-type {\n",
       "        vertical-align: middle;\n",
       "    }\n",
       "\n",
       "    .dataframe tbody tr th {\n",
       "        vertical-align: top;\n",
       "    }\n",
       "\n",
       "    .dataframe thead th {\n",
       "        text-align: right;\n",
       "    }\n",
       "</style>\n",
       "<table border=\"1\" class=\"dataframe\">\n",
       "  <thead>\n",
       "    <tr style=\"text-align: right;\">\n",
       "      <th></th>\n",
       "      <th>SMILES</th>\n",
       "      <th>Target Sequence</th>\n",
       "      <th>Label</th>\n",
       "      <th>drug_encoding</th>\n",
       "      <th>target_encoding</th>\n",
       "    </tr>\n",
       "  </thead>\n",
       "  <tbody>\n",
       "    <tr>\n",
       "      <th>0</th>\n",
       "      <td>CC1=C2C=C(C=CC2=NN1)C3=CC(=CN=C3)OCC(CC4=CC=CC...</td>\n",
       "      <td>MKKFFDSRREQGGSGLGSGSSGGGGSTSGLGSGYIGRVFGIGRQQV...</td>\n",
       "      <td>0</td>\n",
       "      <td>[C, C, 1, =, C, 2, C, =, C, (, C, =, C, C, 2, ...</td>\n",
       "      <td>[M, K, K, F, F, D, S, R, R, E, Q, G, G, S, G, ...</td>\n",
       "    </tr>\n",
       "    <tr>\n",
       "      <th>1</th>\n",
       "      <td>CC1=C2C=C(C=CC2=NN1)C3=CC(=CN=C3)OCC(CC4=CC=CC...</td>\n",
       "      <td>PFWKILNPLLERGTYYYFMGQQPGKVLGDQRRPSLPALHFIKGAGK...</td>\n",
       "      <td>0</td>\n",
       "      <td>[C, C, 1, =, C, 2, C, =, C, (, C, =, C, C, 2, ...</td>\n",
       "      <td>[P, F, W, K, I, L, N, P, L, L, E, R, G, T, Y, ...</td>\n",
       "    </tr>\n",
       "    <tr>\n",
       "      <th>2</th>\n",
       "      <td>CC1=C2C=C(C=CC2=NN1)C3=CC(=CN=C3)OCC(CC4=CC=CC...</td>\n",
       "      <td>PFWKILNPLLERGTYYYFMGQQPGKVLGDQRRPSLPALHFIKGAGK...</td>\n",
       "      <td>0</td>\n",
       "      <td>[C, C, 1, =, C, 2, C, =, C, (, C, =, C, C, 2, ...</td>\n",
       "      <td>[P, F, W, K, I, L, N, P, L, L, E, R, G, T, Y, ...</td>\n",
       "    </tr>\n",
       "  </tbody>\n",
       "</table>\n",
       "</div>"
      ],
      "text/plain": [
       "                                              SMILES  \\\n",
       "0  CC1=C2C=C(C=CC2=NN1)C3=CC(=CN=C3)OCC(CC4=CC=CC...   \n",
       "1  CC1=C2C=C(C=CC2=NN1)C3=CC(=CN=C3)OCC(CC4=CC=CC...   \n",
       "2  CC1=C2C=C(C=CC2=NN1)C3=CC(=CN=C3)OCC(CC4=CC=CC...   \n",
       "\n",
       "                                     Target Sequence  Label  \\\n",
       "0  MKKFFDSRREQGGSGLGSGSSGGGGSTSGLGSGYIGRVFGIGRQQV...      0   \n",
       "1  PFWKILNPLLERGTYYYFMGQQPGKVLGDQRRPSLPALHFIKGAGK...      0   \n",
       "2  PFWKILNPLLERGTYYYFMGQQPGKVLGDQRRPSLPALHFIKGAGK...      0   \n",
       "\n",
       "                                       drug_encoding  \\\n",
       "0  [C, C, 1, =, C, 2, C, =, C, (, C, =, C, C, 2, ...   \n",
       "1  [C, C, 1, =, C, 2, C, =, C, (, C, =, C, C, 2, ...   \n",
       "2  [C, C, 1, =, C, 2, C, =, C, (, C, =, C, C, 2, ...   \n",
       "\n",
       "                                     target_encoding  \n",
       "0  [M, K, K, F, F, D, S, R, R, E, Q, G, G, S, G, ...  \n",
       "1  [P, F, W, K, I, L, N, P, L, L, E, R, G, T, Y, ...  \n",
       "2  [P, F, W, K, I, L, N, P, L, L, E, R, G, T, Y, ...  "
      ]
     },
     "execution_count": 20,
     "metadata": {},
     "output_type": "execute_result"
    }
   ],
   "source": [
    "drug_encoding = 'CNN'\n",
    "target_encoding = 'CNN'\n",
    "train, val, test = data_process(X_drug, X_target, y,\n",
    "                                drug_encoding, target_encoding,\n",
    "                                split_method='random',frac=[0.8,0.1,0.1])\n",
    "train[:3]"
   ]
  },
  {
   "cell_type": "code",
   "execution_count": null,
   "id": "1b08ccbe",
   "metadata": {},
   "outputs": [],
   "source": []
  }
 ],
 "metadata": {
  "kernelspec": {
   "display_name": "DeepPurpose",
   "language": "python",
   "name": "deeppurpose"
  },
  "language_info": {
   "codemirror_mode": {
    "name": "ipython",
    "version": 3
   },
   "file_extension": ".py",
   "mimetype": "text/x-python",
   "name": "python",
   "nbconvert_exporter": "python",
   "pygments_lexer": "ipython3",
   "version": "3.10.0"
  }
 },
 "nbformat": 4,
 "nbformat_minor": 5
}
