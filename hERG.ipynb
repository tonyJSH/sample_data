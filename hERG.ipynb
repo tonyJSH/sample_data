{
 "cells": [
  {
   "cell_type": "markdown",
   "id": "3oxnyayf13Lv",
   "metadata": {
    "id": "3oxnyayf13Lv"
   },
   "source": [
    "# 클러스터링\n",
    "\n",
    "- 화합물에 대한 클러스터링 수행 예\n",
    "- Fingerprint를 이용한 Scaffold 기반 클러스터링 수행\n",
    "- 데이터 처리 모듈 [datamol](https://datamol.io/)에서 다양한 데이터 전처리 함수와 클러스터링 함수 제공"
   ]
  },
  {
   "cell_type": "markdown",
   "id": "fc143d7e",
   "metadata": {
    "id": "fc143d7e",
    "pycharm": {
     "name": "#%% md\n"
    }
   },
   "source": [
    "# Import"
   ]
  },
  {
   "cell_type": "code",
   "execution_count": 3,
   "id": "956df8aa",
   "metadata": {
    "colab": {
     "base_uri": "https://localhost:8080/"
    },
    "id": "956df8aa",
    "outputId": "43554b8f-5ef2-4217-f6e4-7ca85922d840",
    "pycharm": {
     "name": "#%%\n"
    }
   },
   "outputs": [
    {
     "name": "stdout",
     "output_type": "stream",
     "text": [
      "Requirement already satisfied: rdkit in /home/dilab239/anaconda3/lib/python3.11/site-packages (2023.3.3)\n",
      "Requirement already satisfied: datamol in /home/dilab239/anaconda3/lib/python3.11/site-packages (0.12.0)\n",
      "Requirement already satisfied: tqdm in /home/dilab239/anaconda3/lib/python3.11/site-packages (4.65.0)\n",
      "Requirement already satisfied: mols2grid in /home/dilab239/anaconda3/lib/python3.11/site-packages (2.0.0)\n",
      "Requirement already satisfied: numpy in /home/dilab239/anaconda3/lib/python3.11/site-packages (from rdkit) (1.24.3)\n",
      "Requirement already satisfied: Pillow in /home/dilab239/anaconda3/lib/python3.11/site-packages (from rdkit) (10.0.1)\n",
      "Requirement already satisfied: loguru in /home/dilab239/anaconda3/lib/python3.11/site-packages (from datamol) (0.7.2)\n",
      "Requirement already satisfied: joblib in /home/dilab239/anaconda3/lib/python3.11/site-packages (from datamol) (1.2.0)\n",
      "Requirement already satisfied: fsspec>=2021.9 in /home/dilab239/anaconda3/lib/python3.11/site-packages (from datamol) (2023.4.0)\n",
      "Requirement already satisfied: pandas in /home/dilab239/anaconda3/lib/python3.11/site-packages (from datamol) (2.0.3)\n",
      "Requirement already satisfied: scipy in /home/dilab239/anaconda3/lib/python3.11/site-packages (from datamol) (1.11.3)\n",
      "Requirement already satisfied: matplotlib in /home/dilab239/anaconda3/lib/python3.11/site-packages (from datamol) (3.7.2)\n",
      "Requirement already satisfied: selfies in /home/dilab239/anaconda3/lib/python3.11/site-packages (from datamol) (2.1.1)\n",
      "Requirement already satisfied: platformdirs in /home/dilab239/anaconda3/lib/python3.11/site-packages (from datamol) (3.10.0)\n",
      "Requirement already satisfied: scikit-learn in /home/dilab239/anaconda3/lib/python3.11/site-packages (from datamol) (1.3.0)\n",
      "Requirement already satisfied: packaging in /home/dilab239/anaconda3/lib/python3.11/site-packages (from datamol) (23.1)\n",
      "Requirement already satisfied: typing-extensions in /home/dilab239/anaconda3/lib/python3.11/site-packages (from datamol) (4.7.1)\n",
      "Requirement already satisfied: importlib-resources in /home/dilab239/anaconda3/lib/python3.11/site-packages (from datamol) (6.1.1)\n",
      "Requirement already satisfied: ipywidgets<8,>=7 in /home/dilab239/anaconda3/lib/python3.11/site-packages (from mols2grid) (7.8.1)\n",
      "Requirement already satisfied: jinja2>=2.11.0 in /home/dilab239/anaconda3/lib/python3.11/site-packages (from mols2grid) (3.1.2)\n",
      "Requirement already satisfied: comm>=0.1.3 in /home/dilab239/anaconda3/lib/python3.11/site-packages (from ipywidgets<8,>=7->mols2grid) (0.2.0)\n",
      "Requirement already satisfied: ipython-genutils~=0.2.0 in /home/dilab239/anaconda3/lib/python3.11/site-packages (from ipywidgets<8,>=7->mols2grid) (0.2.0)\n",
      "Requirement already satisfied: traitlets>=4.3.1 in /home/dilab239/anaconda3/lib/python3.11/site-packages (from ipywidgets<8,>=7->mols2grid) (5.7.1)\n",
      "Requirement already satisfied: widgetsnbextension~=3.6.6 in /home/dilab239/anaconda3/lib/python3.11/site-packages (from ipywidgets<8,>=7->mols2grid) (3.6.6)\n",
      "Requirement already satisfied: ipython>=4.0.0 in /home/dilab239/anaconda3/lib/python3.11/site-packages (from ipywidgets<8,>=7->mols2grid) (8.15.0)\n",
      "Requirement already satisfied: jupyterlab-widgets<3,>=1.0.0 in /home/dilab239/anaconda3/lib/python3.11/site-packages (from ipywidgets<8,>=7->mols2grid) (1.1.7)\n",
      "Requirement already satisfied: MarkupSafe>=2.0 in /home/dilab239/anaconda3/lib/python3.11/site-packages (from jinja2>=2.11.0->mols2grid) (2.1.1)\n",
      "Requirement already satisfied: contourpy>=1.0.1 in /home/dilab239/anaconda3/lib/python3.11/site-packages (from matplotlib->datamol) (1.0.5)\n",
      "Requirement already satisfied: cycler>=0.10 in /home/dilab239/anaconda3/lib/python3.11/site-packages (from matplotlib->datamol) (0.11.0)\n",
      "Requirement already satisfied: fonttools>=4.22.0 in /home/dilab239/anaconda3/lib/python3.11/site-packages (from matplotlib->datamol) (4.25.0)\n",
      "Requirement already satisfied: kiwisolver>=1.0.1 in /home/dilab239/anaconda3/lib/python3.11/site-packages (from matplotlib->datamol) (1.4.4)\n",
      "Requirement already satisfied: pyparsing<3.1,>=2.3.1 in /home/dilab239/anaconda3/lib/python3.11/site-packages (from matplotlib->datamol) (3.0.9)\n",
      "Requirement already satisfied: python-dateutil>=2.7 in /home/dilab239/anaconda3/lib/python3.11/site-packages (from matplotlib->datamol) (2.8.2)\n",
      "Requirement already satisfied: pytz>=2020.1 in /home/dilab239/anaconda3/lib/python3.11/site-packages (from pandas->datamol) (2023.3.post1)\n",
      "Requirement already satisfied: tzdata>=2022.1 in /home/dilab239/anaconda3/lib/python3.11/site-packages (from pandas->datamol) (2023.3)\n",
      "Requirement already satisfied: threadpoolctl>=2.0.0 in /home/dilab239/anaconda3/lib/python3.11/site-packages (from scikit-learn->datamol) (2.2.0)\n",
      "Requirement already satisfied: backcall in /home/dilab239/anaconda3/lib/python3.11/site-packages (from ipython>=4.0.0->ipywidgets<8,>=7->mols2grid) (0.2.0)\n",
      "Requirement already satisfied: decorator in /home/dilab239/anaconda3/lib/python3.11/site-packages (from ipython>=4.0.0->ipywidgets<8,>=7->mols2grid) (5.1.1)\n",
      "Requirement already satisfied: jedi>=0.16 in /home/dilab239/anaconda3/lib/python3.11/site-packages (from ipython>=4.0.0->ipywidgets<8,>=7->mols2grid) (0.18.1)\n",
      "Requirement already satisfied: matplotlib-inline in /home/dilab239/anaconda3/lib/python3.11/site-packages (from ipython>=4.0.0->ipywidgets<8,>=7->mols2grid) (0.1.6)\n",
      "Requirement already satisfied: pickleshare in /home/dilab239/anaconda3/lib/python3.11/site-packages (from ipython>=4.0.0->ipywidgets<8,>=7->mols2grid) (0.7.5)\n",
      "Requirement already satisfied: prompt-toolkit!=3.0.37,<3.1.0,>=3.0.30 in /home/dilab239/anaconda3/lib/python3.11/site-packages (from ipython>=4.0.0->ipywidgets<8,>=7->mols2grid) (3.0.36)\n",
      "Requirement already satisfied: pygments>=2.4.0 in /home/dilab239/anaconda3/lib/python3.11/site-packages (from ipython>=4.0.0->ipywidgets<8,>=7->mols2grid) (2.15.1)\n",
      "Requirement already satisfied: stack-data in /home/dilab239/anaconda3/lib/python3.11/site-packages (from ipython>=4.0.0->ipywidgets<8,>=7->mols2grid) (0.2.0)\n",
      "Requirement already satisfied: pexpect>4.3 in /home/dilab239/anaconda3/lib/python3.11/site-packages (from ipython>=4.0.0->ipywidgets<8,>=7->mols2grid) (4.8.0)\n",
      "Requirement already satisfied: six>=1.5 in /home/dilab239/anaconda3/lib/python3.11/site-packages (from python-dateutil>=2.7->matplotlib->datamol) (1.16.0)\n",
      "Requirement already satisfied: notebook>=4.4.1 in /home/dilab239/anaconda3/lib/python3.11/site-packages (from widgetsnbextension~=3.6.6->ipywidgets<8,>=7->mols2grid) (6.5.4)\n",
      "Requirement already satisfied: parso<0.9.0,>=0.8.0 in /home/dilab239/anaconda3/lib/python3.11/site-packages (from jedi>=0.16->ipython>=4.0.0->ipywidgets<8,>=7->mols2grid) (0.8.3)\n",
      "Requirement already satisfied: tornado>=6.1 in /home/dilab239/anaconda3/lib/python3.11/site-packages (from notebook>=4.4.1->widgetsnbextension~=3.6.6->ipywidgets<8,>=7->mols2grid) (6.3.2)\n",
      "Requirement already satisfied: pyzmq>=17 in /home/dilab239/anaconda3/lib/python3.11/site-packages (from notebook>=4.4.1->widgetsnbextension~=3.6.6->ipywidgets<8,>=7->mols2grid) (23.2.0)\n",
      "Requirement already satisfied: argon2-cffi in /home/dilab239/anaconda3/lib/python3.11/site-packages (from notebook>=4.4.1->widgetsnbextension~=3.6.6->ipywidgets<8,>=7->mols2grid) (21.3.0)\n",
      "Requirement already satisfied: jupyter-core>=4.6.1 in /home/dilab239/anaconda3/lib/python3.11/site-packages (from notebook>=4.4.1->widgetsnbextension~=3.6.6->ipywidgets<8,>=7->mols2grid) (5.3.0)\n",
      "Requirement already satisfied: jupyter-client>=5.3.4 in /home/dilab239/anaconda3/lib/python3.11/site-packages (from notebook>=4.4.1->widgetsnbextension~=3.6.6->ipywidgets<8,>=7->mols2grid) (7.4.9)\n",
      "Requirement already satisfied: nbformat in /home/dilab239/anaconda3/lib/python3.11/site-packages (from notebook>=4.4.1->widgetsnbextension~=3.6.6->ipywidgets<8,>=7->mols2grid) (5.9.2)\n",
      "Requirement already satisfied: nbconvert>=5 in /home/dilab239/anaconda3/lib/python3.11/site-packages (from notebook>=4.4.1->widgetsnbextension~=3.6.6->ipywidgets<8,>=7->mols2grid) (6.5.4)\n",
      "Requirement already satisfied: nest-asyncio>=1.5 in /home/dilab239/anaconda3/lib/python3.11/site-packages (from notebook>=4.4.1->widgetsnbextension~=3.6.6->ipywidgets<8,>=7->mols2grid) (1.5.6)\n",
      "Requirement already satisfied: ipykernel in /home/dilab239/anaconda3/lib/python3.11/site-packages (from notebook>=4.4.1->widgetsnbextension~=3.6.6->ipywidgets<8,>=7->mols2grid) (6.25.0)\n",
      "Requirement already satisfied: Send2Trash>=1.8.0 in /home/dilab239/anaconda3/lib/python3.11/site-packages (from notebook>=4.4.1->widgetsnbextension~=3.6.6->ipywidgets<8,>=7->mols2grid) (1.8.0)\n",
      "Requirement already satisfied: terminado>=0.8.3 in /home/dilab239/anaconda3/lib/python3.11/site-packages (from notebook>=4.4.1->widgetsnbextension~=3.6.6->ipywidgets<8,>=7->mols2grid) (0.17.1)\n",
      "Requirement already satisfied: prometheus-client in /home/dilab239/anaconda3/lib/python3.11/site-packages (from notebook>=4.4.1->widgetsnbextension~=3.6.6->ipywidgets<8,>=7->mols2grid) (0.14.1)\n",
      "Requirement already satisfied: nbclassic>=0.4.7 in /home/dilab239/anaconda3/lib/python3.11/site-packages (from notebook>=4.4.1->widgetsnbextension~=3.6.6->ipywidgets<8,>=7->mols2grid) (0.5.5)\n",
      "Requirement already satisfied: ptyprocess>=0.5 in /home/dilab239/anaconda3/lib/python3.11/site-packages (from pexpect>4.3->ipython>=4.0.0->ipywidgets<8,>=7->mols2grid) (0.7.0)\n",
      "Requirement already satisfied: wcwidth in /home/dilab239/anaconda3/lib/python3.11/site-packages (from prompt-toolkit!=3.0.37,<3.1.0,>=3.0.30->ipython>=4.0.0->ipywidgets<8,>=7->mols2grid) (0.2.5)\n"
     ]
    },
    {
     "name": "stdout",
     "output_type": "stream",
     "text": [
      "Requirement already satisfied: executing in /home/dilab239/anaconda3/lib/python3.11/site-packages (from stack-data->ipython>=4.0.0->ipywidgets<8,>=7->mols2grid) (0.8.3)\n",
      "Requirement already satisfied: asttokens in /home/dilab239/anaconda3/lib/python3.11/site-packages (from stack-data->ipython>=4.0.0->ipywidgets<8,>=7->mols2grid) (2.0.5)\n",
      "Requirement already satisfied: pure-eval in /home/dilab239/anaconda3/lib/python3.11/site-packages (from stack-data->ipython>=4.0.0->ipywidgets<8,>=7->mols2grid) (0.2.2)\n",
      "Requirement already satisfied: entrypoints in /home/dilab239/anaconda3/lib/python3.11/site-packages (from jupyter-client>=5.3.4->notebook>=4.4.1->widgetsnbextension~=3.6.6->ipywidgets<8,>=7->mols2grid) (0.4)\n",
      "Requirement already satisfied: jupyter-server>=1.8 in /home/dilab239/anaconda3/lib/python3.11/site-packages (from nbclassic>=0.4.7->notebook>=4.4.1->widgetsnbextension~=3.6.6->ipywidgets<8,>=7->mols2grid) (1.23.4)\n",
      "Requirement already satisfied: notebook-shim>=0.1.0 in /home/dilab239/anaconda3/lib/python3.11/site-packages (from nbclassic>=0.4.7->notebook>=4.4.1->widgetsnbextension~=3.6.6->ipywidgets<8,>=7->mols2grid) (0.2.2)\n",
      "Requirement already satisfied: lxml in /home/dilab239/anaconda3/lib/python3.11/site-packages (from nbconvert>=5->notebook>=4.4.1->widgetsnbextension~=3.6.6->ipywidgets<8,>=7->mols2grid) (4.9.3)\n",
      "Requirement already satisfied: beautifulsoup4 in /home/dilab239/anaconda3/lib/python3.11/site-packages (from nbconvert>=5->notebook>=4.4.1->widgetsnbextension~=3.6.6->ipywidgets<8,>=7->mols2grid) (4.12.2)\n",
      "Requirement already satisfied: bleach in /home/dilab239/anaconda3/lib/python3.11/site-packages (from nbconvert>=5->notebook>=4.4.1->widgetsnbextension~=3.6.6->ipywidgets<8,>=7->mols2grid) (4.1.0)\n",
      "Requirement already satisfied: defusedxml in /home/dilab239/anaconda3/lib/python3.11/site-packages (from nbconvert>=5->notebook>=4.4.1->widgetsnbextension~=3.6.6->ipywidgets<8,>=7->mols2grid) (0.7.1)\n",
      "Requirement already satisfied: jupyterlab-pygments in /home/dilab239/anaconda3/lib/python3.11/site-packages (from nbconvert>=5->notebook>=4.4.1->widgetsnbextension~=3.6.6->ipywidgets<8,>=7->mols2grid) (0.1.2)\n",
      "Requirement already satisfied: mistune<2,>=0.8.1 in /home/dilab239/anaconda3/lib/python3.11/site-packages (from nbconvert>=5->notebook>=4.4.1->widgetsnbextension~=3.6.6->ipywidgets<8,>=7->mols2grid) (0.8.4)\n",
      "Requirement already satisfied: nbclient>=0.5.0 in /home/dilab239/anaconda3/lib/python3.11/site-packages (from nbconvert>=5->notebook>=4.4.1->widgetsnbextension~=3.6.6->ipywidgets<8,>=7->mols2grid) (0.5.13)\n",
      "Requirement already satisfied: pandocfilters>=1.4.1 in /home/dilab239/anaconda3/lib/python3.11/site-packages (from nbconvert>=5->notebook>=4.4.1->widgetsnbextension~=3.6.6->ipywidgets<8,>=7->mols2grid) (1.5.0)\n",
      "Requirement already satisfied: tinycss2 in /home/dilab239/anaconda3/lib/python3.11/site-packages (from nbconvert>=5->notebook>=4.4.1->widgetsnbextension~=3.6.6->ipywidgets<8,>=7->mols2grid) (1.2.1)\n",
      "Requirement already satisfied: fastjsonschema in /home/dilab239/anaconda3/lib/python3.11/site-packages (from nbformat->notebook>=4.4.1->widgetsnbextension~=3.6.6->ipywidgets<8,>=7->mols2grid) (2.16.2)\n",
      "Requirement already satisfied: jsonschema>=2.6 in /home/dilab239/anaconda3/lib/python3.11/site-packages (from nbformat->notebook>=4.4.1->widgetsnbextension~=3.6.6->ipywidgets<8,>=7->mols2grid) (4.17.3)\n",
      "Requirement already satisfied: argon2-cffi-bindings in /home/dilab239/anaconda3/lib/python3.11/site-packages (from argon2-cffi->notebook>=4.4.1->widgetsnbextension~=3.6.6->ipywidgets<8,>=7->mols2grid) (21.2.0)\n",
      "Requirement already satisfied: debugpy>=1.6.5 in /home/dilab239/anaconda3/lib/python3.11/site-packages (from ipykernel->notebook>=4.4.1->widgetsnbextension~=3.6.6->ipywidgets<8,>=7->mols2grid) (1.6.7)\n",
      "Requirement already satisfied: psutil in /home/dilab239/anaconda3/lib/python3.11/site-packages (from ipykernel->notebook>=4.4.1->widgetsnbextension~=3.6.6->ipywidgets<8,>=7->mols2grid) (5.9.0)\n",
      "Requirement already satisfied: attrs>=17.4.0 in /home/dilab239/anaconda3/lib/python3.11/site-packages (from jsonschema>=2.6->nbformat->notebook>=4.4.1->widgetsnbextension~=3.6.6->ipywidgets<8,>=7->mols2grid) (23.1.0)\n",
      "Requirement already satisfied: pyrsistent!=0.17.0,!=0.17.1,!=0.17.2,>=0.14.0 in /home/dilab239/anaconda3/lib/python3.11/site-packages (from jsonschema>=2.6->nbformat->notebook>=4.4.1->widgetsnbextension~=3.6.6->ipywidgets<8,>=7->mols2grid) (0.18.0)\n",
      "Requirement already satisfied: anyio<4,>=3.1.0 in /home/dilab239/anaconda3/lib/python3.11/site-packages (from jupyter-server>=1.8->nbclassic>=0.4.7->notebook>=4.4.1->widgetsnbextension~=3.6.6->ipywidgets<8,>=7->mols2grid) (3.5.0)\n",
      "Requirement already satisfied: websocket-client in /home/dilab239/anaconda3/lib/python3.11/site-packages (from jupyter-server>=1.8->nbclassic>=0.4.7->notebook>=4.4.1->widgetsnbextension~=3.6.6->ipywidgets<8,>=7->mols2grid) (0.58.0)\n",
      "Requirement already satisfied: cffi>=1.0.1 in /home/dilab239/anaconda3/lib/python3.11/site-packages (from argon2-cffi-bindings->argon2-cffi->notebook>=4.4.1->widgetsnbextension~=3.6.6->ipywidgets<8,>=7->mols2grid) (1.15.1)\n",
      "Requirement already satisfied: soupsieve>1.2 in /home/dilab239/anaconda3/lib/python3.11/site-packages (from beautifulsoup4->nbconvert>=5->notebook>=4.4.1->widgetsnbextension~=3.6.6->ipywidgets<8,>=7->mols2grid) (2.5)\n",
      "Requirement already satisfied: webencodings in /home/dilab239/anaconda3/lib/python3.11/site-packages (from bleach->nbconvert>=5->notebook>=4.4.1->widgetsnbextension~=3.6.6->ipywidgets<8,>=7->mols2grid) (0.5.1)\n",
      "Requirement already satisfied: idna>=2.8 in /home/dilab239/anaconda3/lib/python3.11/site-packages (from anyio<4,>=3.1.0->jupyter-server>=1.8->nbclassic>=0.4.7->notebook>=4.4.1->widgetsnbextension~=3.6.6->ipywidgets<8,>=7->mols2grid) (3.4)\n",
      "Requirement already satisfied: sniffio>=1.1 in /home/dilab239/anaconda3/lib/python3.11/site-packages (from anyio<4,>=3.1.0->jupyter-server>=1.8->nbclassic>=0.4.7->notebook>=4.4.1->widgetsnbextension~=3.6.6->ipywidgets<8,>=7->mols2grid) (1.2.0)\n",
      "Requirement already satisfied: pycparser in /home/dilab239/anaconda3/lib/python3.11/site-packages (from cffi>=1.0.1->argon2-cffi-bindings->argon2-cffi->notebook>=4.4.1->widgetsnbextension~=3.6.6->ipywidgets<8,>=7->mols2grid) (2.21)\n"
     ]
    }
   ],
   "source": [
    "!pip install rdkit datamol tqdm mols2grid"
   ]
  },
  {
   "cell_type": "code",
   "execution_count": 2,
   "id": "fa9cf58c",
   "metadata": {
    "id": "fa9cf58c",
    "pycharm": {
     "name": "#%%\n"
    }
   },
   "outputs": [],
   "source": [
    "import pandas as pd\n",
    "import datamol as dm\n",
    "from tqdm import tqdm\n",
    "import mols2grid\n",
    "\n",
    "%config InlineBackend.figure_format = 'retina'\n",
    "pd.options.display.float_format = '{:,.3f}'.format # 소수점 표시 지정"
   ]
  },
  {
   "cell_type": "markdown",
   "id": "5e3313a2",
   "metadata": {
    "id": "5e3313a2",
    "pycharm": {
     "name": "#%% md\n"
    }
   },
   "source": [
    "# 데이터\n",
    "\n",
    "- hERG 저해제 데이터\n",
    "- The human ether-a-go-go-related gene (hERG)\n",
    " - 심장에서 칼륨(K+)이온의 흐름을 조절해 심장박동을 조정하는 유전자\n",
    " - 심장 독성 발생과 관련된 유전자"
   ]
  },
  {
   "cell_type": "code",
   "execution_count": 3,
   "id": "a6f00b70",
   "metadata": {
    "id": "a6f00b70",
    "outputId": "f6364726-72ee-4ad4-d270-45ab59cbf117",
    "pycharm": {
     "name": "#%%\n"
    }
   },
   "outputs": [
    {
     "name": "stdout",
     "output_type": "stream",
     "text": [
      "(4042, 3)\n"
     ]
    },
    {
     "data": {
      "text/html": [
       "<div>\n",
       "<style scoped>\n",
       "    .dataframe tbody tr th:only-of-type {\n",
       "        vertical-align: middle;\n",
       "    }\n",
       "\n",
       "    .dataframe tbody tr th {\n",
       "        vertical-align: top;\n",
       "    }\n",
       "\n",
       "    .dataframe thead th {\n",
       "        text-align: right;\n",
       "    }\n",
       "</style>\n",
       "<table border=\"1\" class=\"dataframe\">\n",
       "  <thead>\n",
       "    <tr style=\"text-align: right;\">\n",
       "      <th></th>\n",
       "      <th>SMILES</th>\n",
       "      <th>Name</th>\n",
       "      <th>pIC50</th>\n",
       "    </tr>\n",
       "  </thead>\n",
       "  <tbody>\n",
       "    <tr>\n",
       "      <th>0</th>\n",
       "      <td>c1cc(ccc1n2cc(c3c2ccc(c3)Cl)C4CCN(CC4)CCN5CCNC...</td>\n",
       "      <td>CHEMBL12713</td>\n",
       "      <td>8.025</td>\n",
       "    </tr>\n",
       "    <tr>\n",
       "      <th>1</th>\n",
       "      <td>c1ccc2c(c1)[nH]c(=O)n2C3=CCN(CC3)CCCC(=O)c4ccc...</td>\n",
       "      <td>CHEMBL1108</td>\n",
       "      <td>7.328</td>\n",
       "    </tr>\n",
       "    <tr>\n",
       "      <th>2</th>\n",
       "      <td>c1ccc2c(c1)c(c[nH]2)C(=O)OC3CC4CC5CC(C3)N4CC5=O</td>\n",
       "      <td>CHEMBL2368925</td>\n",
       "      <td>5.072</td>\n",
       "    </tr>\n",
       "  </tbody>\n",
       "</table>\n",
       "</div>"
      ],
      "text/plain": [
       "                                              SMILES           Name  pIC50\n",
       "0  c1cc(ccc1n2cc(c3c2ccc(c3)Cl)C4CCN(CC4)CCN5CCNC...    CHEMBL12713  8.025\n",
       "1  c1ccc2c(c1)[nH]c(=O)n2C3=CCN(CC3)CCCC(=O)c4ccc...     CHEMBL1108  7.328\n",
       "2    c1ccc2c(c1)c(c[nH]2)C(=O)OC3CC4CC5CC(C3)N4CC5=O  CHEMBL2368925  5.072"
      ]
     },
     "execution_count": 3,
     "metadata": {},
     "output_type": "execute_result"
    }
   ],
   "source": [
    "df = pd.read_csv('./data/HERG.smi',sep=\" \",names=[\"SMILES\",\"Name\",\"pIC50\"])\n",
    "print(df.shape)\n",
    "df[:3]"
   ]
  },
  {
   "cell_type": "markdown",
   "id": "1a540683",
   "metadata": {
    "id": "1a540683",
    "pycharm": {
     "name": "#%% md\n"
    }
   },
   "source": [
    "### mol 객체 얻기\n",
    "\n",
    "- from_df 함수 사용\n"
   ]
  },
  {
   "cell_type": "code",
   "execution_count": 4,
   "id": "e7bbb9d9",
   "metadata": {
    "colab": {
     "base_uri": "https://localhost:8080/",
     "height": 337
    },
    "id": "e7bbb9d9",
    "outputId": "571cb870-cd39-4ed8-99bf-68a10126c6a6",
    "pycharm": {
     "name": "#%%\n"
    }
   },
   "outputs": [
    {
     "data": {
      "text/html": [
       "<div>\n",
       "<style scoped>\n",
       "    .dataframe tbody tr th:only-of-type {\n",
       "        vertical-align: middle;\n",
       "    }\n",
       "\n",
       "    .dataframe tbody tr th {\n",
       "        vertical-align: top;\n",
       "    }\n",
       "\n",
       "    .dataframe thead th {\n",
       "        text-align: right;\n",
       "    }\n",
       "</style>\n",
       "<table border=\"1\" class=\"dataframe\">\n",
       "  <thead>\n",
       "    <tr style=\"text-align: right;\">\n",
       "      <th></th>\n",
       "      <th>SMILES</th>\n",
       "      <th>Name</th>\n",
       "      <th>pIC50</th>\n",
       "      <th>mol</th>\n",
       "    </tr>\n",
       "  </thead>\n",
       "  <tbody>\n",
       "    <tr>\n",
       "      <th>0</th>\n",
       "      <td>c1cc(ccc1n2cc(c3c2ccc(c3)Cl)C4CCN(CC4)CCN5CCNC...</td>\n",
       "      <td>CHEMBL12713</td>\n",
       "      <td>8.025</td>\n",
       "      <td>&lt;rdkit.Chem.rdchem.Mol object at 0x7f4c0f972f80&gt;</td>\n",
       "    </tr>\n",
       "    <tr>\n",
       "      <th>1</th>\n",
       "      <td>c1ccc2c(c1)[nH]c(=O)n2C3=CCN(CC3)CCCC(=O)c4ccc...</td>\n",
       "      <td>CHEMBL1108</td>\n",
       "      <td>7.328</td>\n",
       "      <td>&lt;rdkit.Chem.rdchem.Mol object at 0x7f4c0f972ff0&gt;</td>\n",
       "    </tr>\n",
       "    <tr>\n",
       "      <th>2</th>\n",
       "      <td>c1ccc2c(c1)c(c[nH]2)C(=O)OC3CC4CC5CC(C3)N4CC5=O</td>\n",
       "      <td>CHEMBL2368925</td>\n",
       "      <td>5.072</td>\n",
       "      <td>&lt;rdkit.Chem.rdchem.Mol object at 0x7f4c0f973060&gt;</td>\n",
       "    </tr>\n",
       "    <tr>\n",
       "      <th>3</th>\n",
       "      <td>CC(C)C(CCCN(C)CCc1ccc(c(c1)OC)OC)(C#N)c2ccc(c(...</td>\n",
       "      <td>CHEMBL6966</td>\n",
       "      <td>6.831</td>\n",
       "      <td>&lt;rdkit.Chem.rdchem.Mol object at 0x7f4c0f9730d0&gt;</td>\n",
       "    </tr>\n",
       "    <tr>\n",
       "      <th>4</th>\n",
       "      <td>CCOC(=O)N1CCC(=C2c3ccc(cc3CCc4c2nccc4)Cl)CC1</td>\n",
       "      <td>CHEMBL998</td>\n",
       "      <td>6.429</td>\n",
       "      <td>&lt;rdkit.Chem.rdchem.Mol object at 0x7f4c0f973140&gt;</td>\n",
       "    </tr>\n",
       "  </tbody>\n",
       "</table>\n",
       "</div>"
      ],
      "text/plain": [
       "                                              SMILES           Name  pIC50  \\\n",
       "0  c1cc(ccc1n2cc(c3c2ccc(c3)Cl)C4CCN(CC4)CCN5CCNC...    CHEMBL12713  8.025   \n",
       "1  c1ccc2c(c1)[nH]c(=O)n2C3=CCN(CC3)CCCC(=O)c4ccc...     CHEMBL1108  7.328   \n",
       "2    c1ccc2c(c1)c(c[nH]2)C(=O)OC3CC4CC5CC(C3)N4CC5=O  CHEMBL2368925  5.072   \n",
       "3  CC(C)C(CCCN(C)CCc1ccc(c(c1)OC)OC)(C#N)c2ccc(c(...     CHEMBL6966  6.831   \n",
       "4       CCOC(=O)N1CCC(=C2c3ccc(cc3CCc4c2nccc4)Cl)CC1      CHEMBL998  6.429   \n",
       "\n",
       "                                                mol  \n",
       "0  <rdkit.Chem.rdchem.Mol object at 0x7f4c0f972f80>  \n",
       "1  <rdkit.Chem.rdchem.Mol object at 0x7f4c0f972ff0>  \n",
       "2  <rdkit.Chem.rdchem.Mol object at 0x7f4c0f973060>  \n",
       "3  <rdkit.Chem.rdchem.Mol object at 0x7f4c0f9730d0>  \n",
       "4  <rdkit.Chem.rdchem.Mol object at 0x7f4c0f973140>  "
      ]
     },
     "execution_count": 4,
     "metadata": {},
     "output_type": "execute_result"
    }
   ],
   "source": [
    "df['mol'] = dm.from_df(df, smiles_column=\"SMILES\")\n",
    "df.head()"
   ]
  },
  {
   "cell_type": "markdown",
   "id": "cc3306f9",
   "metadata": {
    "id": "cc3306f9",
    "pycharm": {
     "name": "#%% md\n"
    }
   },
   "source": [
    "### 데이터 처리 함수 정의\n",
    "\n",
    "- 분자의 가장 큰 링의 크기를 얻는 함수를 정의"
   ]
  },
  {
   "cell_type": "code",
   "execution_count": 5,
   "id": "e1bf5acb",
   "metadata": {
    "id": "e1bf5acb",
    "pycharm": {
     "name": "#%%\n"
    }
   },
   "outputs": [],
   "source": [
    "def max_ring_size(mol):\n",
    "    ri = mol.GetRingInfo()\n",
    "    atom_rings = ri.AtomRings()\n",
    "    if len(atom_rings) == 0:\n",
    "        return 0\n",
    "    else:\n",
    "        return max([len(x) for x in ri.AtomRings()])"
   ]
  },
  {
   "cell_type": "markdown",
   "id": "05f6ab68",
   "metadata": {
    "id": "05f6ab68",
    "pycharm": {
     "name": "#%% md\n"
    }
   },
   "source": [
    "## 분자의 특성 추가\n",
    "\n",
    "- 추가할 특성을 얻는 함수를 딕셔너리로 만든다\n",
    "- 위에서 정의한 max_ring_size 함수도 추가"
   ]
  },
  {
   "cell_type": "code",
   "execution_count": 6,
   "id": "8b1a0550",
   "metadata": {
    "id": "8b1a0550",
    "pycharm": {
     "name": "#%%\n"
    }
   },
   "outputs": [],
   "source": [
    "my_prop_dict = {\n",
    "    \"mw\" : dm.descriptors.mw,\n",
    "    \"logp\" : dm.descriptors.clogp,\n",
    "    \"hbd\" : dm.descriptors.n_lipinski_hbd,\n",
    "    \"hba\" : dm.descriptors.n_lipinski_hba,\n",
    "    \"max_ring_size\" : max_ring_size\n",
    "}"
   ]
  },
  {
   "cell_type": "markdown",
   "id": "446a940c",
   "metadata": {
    "id": "446a940c",
    "pycharm": {
     "name": "#%% md\n"
    }
   },
   "source": [
    "- datamol이 제공하는 **batch_compute_many_descriptors**를 사용하면 해당 특성들을 한번에 추가한다\n",
    " - add_properties를 True로 설정하면 모든 지원되는 descriptors를 계산한다\n",
    " - progress=True 진행 프로그레스를 보여준다"
   ]
  },
  {
   "cell_type": "code",
   "execution_count": 7,
   "id": "2133a2a1",
   "metadata": {
    "colab": {
     "base_uri": "https://localhost:8080/",
     "height": 49,
     "referenced_widgets": [
      "03e30487b4f54c01962b9c7b15eb8ed2",
      "b0991e69654f47a09907d5fa8252df33",
      "3c5201efa2164d1a821a53d557dce9d5",
      "b46d5e18ac5c4a1a83763bd5ebf51696",
      "348fcd35329842c5a0027ba28b1d95c7",
      "05806be5c5c84c18a936ba7945ee110c",
      "3c9273d4864e438ebd9d8cd977a6ef2b",
      "0d0bbcc4426a4e6aabea553b801a8861",
      "e5a48f48817845059cc9a3f110a3a156",
      "f9d9bd6280a743759d85a0f30933cc86",
      "ca184fcf540f4943a7fdc3fb4d55d046",
      "fdf32b74d70f46d2a043148a66382fd2"
     ]
    },
    "id": "2133a2a1",
    "outputId": "be9f771e-8f07-4897-8bbe-319b3e947641",
    "pycharm": {
     "name": "#%%\n"
    }
   },
   "outputs": [
    {
     "data": {
      "application/vnd.jupyter.widget-view+json": {
       "model_id": "8ae8f65385b547db8a8a4e41b59f5a74",
       "version_major": 2,
       "version_minor": 0
      },
      "text/plain": [
       "  0%|          | 0/4042 [00:00<?, ?it/s]"
      ]
     },
     "metadata": {},
     "output_type": "display_data"
    }
   ],
   "source": [
    "prop_df = dm.descriptors.batch_compute_many_descriptors(df.mol,properties_fn=my_prop_dict,\n",
    "                add_properties=False, progress=True)"
   ]
  },
  {
   "cell_type": "code",
   "execution_count": 8,
   "id": "ff41a32e",
   "metadata": {
    "colab": {
     "base_uri": "https://localhost:8080/",
     "height": 424
    },
    "id": "ff41a32e",
    "outputId": "f45f09c2-a078-4bdc-adc3-6c6a2595cdfc",
    "pycharm": {
     "name": "#%%\n"
    }
   },
   "outputs": [
    {
     "data": {
      "text/html": [
       "<div>\n",
       "<style scoped>\n",
       "    .dataframe tbody tr th:only-of-type {\n",
       "        vertical-align: middle;\n",
       "    }\n",
       "\n",
       "    .dataframe tbody tr th {\n",
       "        vertical-align: top;\n",
       "    }\n",
       "\n",
       "    .dataframe thead th {\n",
       "        text-align: right;\n",
       "    }\n",
       "</style>\n",
       "<table border=\"1\" class=\"dataframe\">\n",
       "  <thead>\n",
       "    <tr style=\"text-align: right;\">\n",
       "      <th></th>\n",
       "      <th>mw</th>\n",
       "      <th>logp</th>\n",
       "      <th>hbd</th>\n",
       "      <th>hba</th>\n",
       "      <th>max_ring_size</th>\n",
       "    </tr>\n",
       "  </thead>\n",
       "  <tbody>\n",
       "    <tr>\n",
       "      <th>0</th>\n",
       "      <td>440.178</td>\n",
       "      <td>4.628</td>\n",
       "      <td>1</td>\n",
       "      <td>5</td>\n",
       "      <td>6</td>\n",
       "    </tr>\n",
       "    <tr>\n",
       "      <th>1</th>\n",
       "      <td>379.170</td>\n",
       "      <td>3.678</td>\n",
       "      <td>1</td>\n",
       "      <td>5</td>\n",
       "      <td>6</td>\n",
       "    </tr>\n",
       "    <tr>\n",
       "      <th>2</th>\n",
       "      <td>324.147</td>\n",
       "      <td>2.519</td>\n",
       "      <td>1</td>\n",
       "      <td>5</td>\n",
       "      <td>6</td>\n",
       "    </tr>\n",
       "  </tbody>\n",
       "</table>\n",
       "</div>"
      ],
      "text/plain": [
       "       mw  logp  hbd  hba  max_ring_size\n",
       "0 440.178 4.628    1    5              6\n",
       "1 379.170 3.678    1    5              6\n",
       "2 324.147 2.519    1    5              6"
      ]
     },
     "execution_count": 8,
     "metadata": {},
     "output_type": "execute_result"
    }
   ],
   "source": [
    "prop_df[:3]"
   ]
  },
  {
   "cell_type": "markdown",
   "id": "8a39017a",
   "metadata": {
    "id": "8a39017a",
    "pycharm": {
     "name": "#%% md\n"
    }
   },
   "source": [
    "- 원본 데이터프레임과 합친다 (컬럼 방향으로)"
   ]
  },
  {
   "cell_type": "code",
   "execution_count": 9,
   "id": "19842e7e",
   "metadata": {
    "id": "19842e7e",
    "outputId": "bb46eb8c-611a-41f9-f674-9efc86079dac",
    "pycharm": {
     "name": "#%%\n"
    }
   },
   "outputs": [
    {
     "name": "stdout",
     "output_type": "stream",
     "text": [
      "(4042, 9)\n"
     ]
    },
    {
     "data": {
      "text/html": [
       "<div>\n",
       "<style scoped>\n",
       "    .dataframe tbody tr th:only-of-type {\n",
       "        vertical-align: middle;\n",
       "    }\n",
       "\n",
       "    .dataframe tbody tr th {\n",
       "        vertical-align: top;\n",
       "    }\n",
       "\n",
       "    .dataframe thead th {\n",
       "        text-align: right;\n",
       "    }\n",
       "</style>\n",
       "<table border=\"1\" class=\"dataframe\">\n",
       "  <thead>\n",
       "    <tr style=\"text-align: right;\">\n",
       "      <th></th>\n",
       "      <th>SMILES</th>\n",
       "      <th>Name</th>\n",
       "      <th>pIC50</th>\n",
       "      <th>mol</th>\n",
       "      <th>mw</th>\n",
       "      <th>logp</th>\n",
       "      <th>hbd</th>\n",
       "      <th>hba</th>\n",
       "      <th>max_ring_size</th>\n",
       "    </tr>\n",
       "  </thead>\n",
       "  <tbody>\n",
       "    <tr>\n",
       "      <th>0</th>\n",
       "      <td>c1cc(ccc1n2cc(c3c2ccc(c3)Cl)C4CCN(CC4)CCN5CCNC...</td>\n",
       "      <td>CHEMBL12713</td>\n",
       "      <td>8.025</td>\n",
       "      <td>&lt;rdkit.Chem.rdchem.Mol object at 0x7f4c0f972f80&gt;</td>\n",
       "      <td>440.178</td>\n",
       "      <td>4.628</td>\n",
       "      <td>1</td>\n",
       "      <td>5</td>\n",
       "      <td>6</td>\n",
       "    </tr>\n",
       "    <tr>\n",
       "      <th>1</th>\n",
       "      <td>c1ccc2c(c1)[nH]c(=O)n2C3=CCN(CC3)CCCC(=O)c4ccc...</td>\n",
       "      <td>CHEMBL1108</td>\n",
       "      <td>7.328</td>\n",
       "      <td>&lt;rdkit.Chem.rdchem.Mol object at 0x7f4c0f972ff0&gt;</td>\n",
       "      <td>379.170</td>\n",
       "      <td>3.678</td>\n",
       "      <td>1</td>\n",
       "      <td>5</td>\n",
       "      <td>6</td>\n",
       "    </tr>\n",
       "    <tr>\n",
       "      <th>2</th>\n",
       "      <td>c1ccc2c(c1)c(c[nH]2)C(=O)OC3CC4CC5CC(C3)N4CC5=O</td>\n",
       "      <td>CHEMBL2368925</td>\n",
       "      <td>5.072</td>\n",
       "      <td>&lt;rdkit.Chem.rdchem.Mol object at 0x7f4c0f973060&gt;</td>\n",
       "      <td>324.147</td>\n",
       "      <td>2.519</td>\n",
       "      <td>1</td>\n",
       "      <td>5</td>\n",
       "      <td>6</td>\n",
       "    </tr>\n",
       "  </tbody>\n",
       "</table>\n",
       "</div>"
      ],
      "text/plain": [
       "                                              SMILES           Name  pIC50  \\\n",
       "0  c1cc(ccc1n2cc(c3c2ccc(c3)Cl)C4CCN(CC4)CCN5CCNC...    CHEMBL12713  8.025   \n",
       "1  c1ccc2c(c1)[nH]c(=O)n2C3=CCN(CC3)CCCC(=O)c4ccc...     CHEMBL1108  7.328   \n",
       "2    c1ccc2c(c1)c(c[nH]2)C(=O)OC3CC4CC5CC(C3)N4CC5=O  CHEMBL2368925  5.072   \n",
       "\n",
       "                                                mol      mw  logp  hbd  hba  \\\n",
       "0  <rdkit.Chem.rdchem.Mol object at 0x7f4c0f972f80> 440.178 4.628    1    5   \n",
       "1  <rdkit.Chem.rdchem.Mol object at 0x7f4c0f972ff0> 379.170 3.678    1    5   \n",
       "2  <rdkit.Chem.rdchem.Mol object at 0x7f4c0f973060> 324.147 2.519    1    5   \n",
       "\n",
       "   max_ring_size  \n",
       "0              6  \n",
       "1              6  \n",
       "2              6  "
      ]
     },
     "execution_count": 9,
     "metadata": {},
     "output_type": "execute_result"
    }
   ],
   "source": [
    "df = pd.concat([df,prop_df],axis=1)\n",
    "print(df.shape)\n",
    "df[:3]"
   ]
  },
  {
   "cell_type": "markdown",
   "id": "4fe25310",
   "metadata": {
    "id": "4fe25310",
    "pycharm": {
     "name": "#%% md\n"
    }
   },
   "source": [
    "# Lipinski Rule of 5 (Ro5)\n",
    "\n",
    "- 통상 아래과 같이 처리한다\n",
    "```python\n",
    "df = df[df['mw'] <= 500]\n",
    "df = df[df['logp'] <= 5]\n",
    "df = df[df['hbd'] <= 5]\n",
    "df = df[df['hba'] <= 10]\n",
    "```\n",
    "\n",
    "- 여기서는 위와 같은 조건을 모두 만족하는 불리언 리스트를 만들어 적용하겠다"
   ]
  },
  {
   "cell_type": "code",
   "execution_count": 10,
   "id": "f309fd45",
   "metadata": {
    "colab": {
     "base_uri": "https://localhost:8080/"
    },
    "id": "f309fd45",
    "outputId": "0848dedf-c99e-43a8-a1ec-3c880de4f903",
    "pycharm": {
     "name": "#%%\n"
    }
   },
   "outputs": [
    {
     "name": "stdout",
     "output_type": "stream",
     "text": [
      "3476\n"
     ]
    },
    {
     "data": {
      "text/plain": [
       "0     True\n",
       "1     True\n",
       "2     True\n",
       "3    False\n",
       "4     True\n",
       "5     True\n",
       "6     True\n",
       "7     True\n",
       "8    False\n",
       "9     True\n",
       "dtype: bool"
      ]
     },
     "execution_count": 10,
     "metadata": {},
     "output_type": "execute_result"
    }
   ],
   "source": [
    "ro5_ok = (df.mw <= 500) & (df.logp <=5) & (df.hbd <= 5) & (df.hba <= 10)\n",
    "print(ro5_ok.sum())\n",
    "ro5_ok[:10]"
   ]
  },
  {
   "cell_type": "markdown",
   "id": "deec5583",
   "metadata": {
    "id": "deec5583"
   },
   "source": [
    "## 데이터 필터링"
   ]
  },
  {
   "cell_type": "code",
   "execution_count": 11,
   "id": "6137f1d8",
   "metadata": {
    "id": "6137f1d8",
    "outputId": "1a312005-c700-4107-c1b0-f0c3d73e0104"
   },
   "outputs": [
    {
     "name": "stdout",
     "output_type": "stream",
     "text": [
      "(4042, 9)\n",
      "(3476, 9)\n"
     ]
    },
    {
     "data": {
      "text/html": [
       "<div>\n",
       "<style scoped>\n",
       "    .dataframe tbody tr th:only-of-type {\n",
       "        vertical-align: middle;\n",
       "    }\n",
       "\n",
       "    .dataframe tbody tr th {\n",
       "        vertical-align: top;\n",
       "    }\n",
       "\n",
       "    .dataframe thead th {\n",
       "        text-align: right;\n",
       "    }\n",
       "</style>\n",
       "<table border=\"1\" class=\"dataframe\">\n",
       "  <thead>\n",
       "    <tr style=\"text-align: right;\">\n",
       "      <th></th>\n",
       "      <th>SMILES</th>\n",
       "      <th>Name</th>\n",
       "      <th>pIC50</th>\n",
       "      <th>mol</th>\n",
       "      <th>mw</th>\n",
       "      <th>logp</th>\n",
       "      <th>hbd</th>\n",
       "      <th>hba</th>\n",
       "      <th>max_ring_size</th>\n",
       "    </tr>\n",
       "  </thead>\n",
       "  <tbody>\n",
       "    <tr>\n",
       "      <th>0</th>\n",
       "      <td>c1cc(ccc1n2cc(c3c2ccc(c3)Cl)C4CCN(CC4)CCN5CCNC...</td>\n",
       "      <td>CHEMBL12713</td>\n",
       "      <td>8.025</td>\n",
       "      <td>&lt;rdkit.Chem.rdchem.Mol object at 0x7f4c0f972f80&gt;</td>\n",
       "      <td>440.178</td>\n",
       "      <td>4.628</td>\n",
       "      <td>1</td>\n",
       "      <td>5</td>\n",
       "      <td>6</td>\n",
       "    </tr>\n",
       "    <tr>\n",
       "      <th>1</th>\n",
       "      <td>c1ccc2c(c1)[nH]c(=O)n2C3=CCN(CC3)CCCC(=O)c4ccc...</td>\n",
       "      <td>CHEMBL1108</td>\n",
       "      <td>7.328</td>\n",
       "      <td>&lt;rdkit.Chem.rdchem.Mol object at 0x7f4c0f972ff0&gt;</td>\n",
       "      <td>379.170</td>\n",
       "      <td>3.678</td>\n",
       "      <td>1</td>\n",
       "      <td>5</td>\n",
       "      <td>6</td>\n",
       "    </tr>\n",
       "    <tr>\n",
       "      <th>2</th>\n",
       "      <td>c1ccc2c(c1)c(c[nH]2)C(=O)OC3CC4CC5CC(C3)N4CC5=O</td>\n",
       "      <td>CHEMBL2368925</td>\n",
       "      <td>5.072</td>\n",
       "      <td>&lt;rdkit.Chem.rdchem.Mol object at 0x7f4c0f973060&gt;</td>\n",
       "      <td>324.147</td>\n",
       "      <td>2.519</td>\n",
       "      <td>1</td>\n",
       "      <td>5</td>\n",
       "      <td>6</td>\n",
       "    </tr>\n",
       "  </tbody>\n",
       "</table>\n",
       "</div>"
      ],
      "text/plain": [
       "                                              SMILES           Name  pIC50  \\\n",
       "0  c1cc(ccc1n2cc(c3c2ccc(c3)Cl)C4CCN(CC4)CCN5CCNC...    CHEMBL12713  8.025   \n",
       "1  c1ccc2c(c1)[nH]c(=O)n2C3=CCN(CC3)CCCC(=O)c4ccc...     CHEMBL1108  7.328   \n",
       "2    c1ccc2c(c1)c(c[nH]2)C(=O)OC3CC4CC5CC(C3)N4CC5=O  CHEMBL2368925  5.072   \n",
       "\n",
       "                                                mol      mw  logp  hbd  hba  \\\n",
       "0  <rdkit.Chem.rdchem.Mol object at 0x7f4c0f972f80> 440.178 4.628    1    5   \n",
       "1  <rdkit.Chem.rdchem.Mol object at 0x7f4c0f972ff0> 379.170 3.678    1    5   \n",
       "2  <rdkit.Chem.rdchem.Mol object at 0x7f4c0f973060> 324.147 2.519    1    5   \n",
       "\n",
       "   max_ring_size  \n",
       "0              6  \n",
       "1              6  \n",
       "2              6  "
      ]
     },
     "execution_count": 11,
     "metadata": {},
     "output_type": "execute_result"
    }
   ],
   "source": [
    "print(df.shape)\n",
    "df = df[ro5_ok] # Ro5 조건을 만족하는 분자만 선택한 결과\n",
    "print(df.shape)\n",
    "df[:3]"
   ]
  },
  {
   "cell_type": "code",
   "execution_count": null,
   "id": "7dc272c8",
   "metadata": {},
   "outputs": [],
   "source": []
  }
 ],
 "metadata": {
  "colab": {
   "collapsed_sections": [
    "5e3313a2",
    "1a540683",
    "cc3306f9",
    "4fe25310",
    "8f94c7da"
   ],
   "provenance": []
  },
  "kernelspec": {
   "display_name": "AI_study",
   "language": "python",
   "name": "ai_study"
  },
  "language_info": {
   "codemirror_mode": {
    "name": "ipython",
    "version": 3
   },
   "file_extension": ".py",
   "mimetype": "text/x-python",
   "name": "python",
   "nbconvert_exporter": "python",
   "pygments_lexer": "ipython3",
   "version": "3.10.12"
  },
  "toc": {
   "base_numbering": 1,
   "nav_menu": {},
   "number_sections": false,
   "sideBar": true,
   "skip_h1_title": false,
   "title_cell": "Table of Contents",
   "title_sidebar": "Contents",
   "toc_cell": false,
   "toc_position": {
    "height": "calc(100% - 180px)",
    "left": "10px",
    "top": "150px",
    "width": "215.33px"
   },
   "toc_section_display": true,
   "toc_window_display": true
  },
  "widgets": {
   "application/vnd.jupyter.widget-state+json": {
    "03e30487b4f54c01962b9c7b15eb8ed2": {
     "model_module": "@jupyter-widgets/controls",
     "model_module_version": "1.5.0",
     "model_name": "HBoxModel",
     "state": {
      "_dom_classes": [],
      "_model_module": "@jupyter-widgets/controls",
      "_model_module_version": "1.5.0",
      "_model_name": "HBoxModel",
      "_view_count": null,
      "_view_module": "@jupyter-widgets/controls",
      "_view_module_version": "1.5.0",
      "_view_name": "HBoxView",
      "box_style": "",
      "children": [
       "IPY_MODEL_b0991e69654f47a09907d5fa8252df33",
       "IPY_MODEL_3c5201efa2164d1a821a53d557dce9d5",
       "IPY_MODEL_b46d5e18ac5c4a1a83763bd5ebf51696"
      ],
      "layout": "IPY_MODEL_348fcd35329842c5a0027ba28b1d95c7"
     }
    },
    "04b5efeac8004c99b82242c5460b2437": {
     "model_module": "@jupyter-widgets/controls",
     "model_module_version": "1.5.0",
     "model_name": "HTMLModel",
     "state": {
      "_dom_classes": [],
      "_model_module": "@jupyter-widgets/controls",
      "_model_module_version": "1.5.0",
      "_model_name": "HTMLModel",
      "_view_count": null,
      "_view_module": "@jupyter-widgets/controls",
      "_view_module_version": "1.5.0",
      "_view_name": "HTMLView",
      "description": "",
      "description_tooltip": null,
      "layout": "IPY_MODEL_f7890ac11ccd473082f0de0911310ac8",
      "placeholder": "​",
      "style": "IPY_MODEL_6dc28ac1ec7c46db9b9a0c13dc311f15",
      "value": "100%"
     }
    },
    "05806be5c5c84c18a936ba7945ee110c": {
     "model_module": "@jupyter-widgets/base",
     "model_module_version": "1.2.0",
     "model_name": "LayoutModel",
     "state": {
      "_model_module": "@jupyter-widgets/base",
      "_model_module_version": "1.2.0",
      "_model_name": "LayoutModel",
      "_view_count": null,
      "_view_module": "@jupyter-widgets/base",
      "_view_module_version": "1.2.0",
      "_view_name": "LayoutView",
      "align_content": null,
      "align_items": null,
      "align_self": null,
      "border": null,
      "bottom": null,
      "display": null,
      "flex": null,
      "flex_flow": null,
      "grid_area": null,
      "grid_auto_columns": null,
      "grid_auto_flow": null,
      "grid_auto_rows": null,
      "grid_column": null,
      "grid_gap": null,
      "grid_row": null,
      "grid_template_areas": null,
      "grid_template_columns": null,
      "grid_template_rows": null,
      "height": null,
      "justify_content": null,
      "justify_items": null,
      "left": null,
      "margin": null,
      "max_height": null,
      "max_width": null,
      "min_height": null,
      "min_width": null,
      "object_fit": null,
      "object_position": null,
      "order": null,
      "overflow": null,
      "overflow_x": null,
      "overflow_y": null,
      "padding": null,
      "right": null,
      "top": null,
      "visibility": null,
      "width": null
     }
    },
    "0d0bbcc4426a4e6aabea553b801a8861": {
     "model_module": "@jupyter-widgets/base",
     "model_module_version": "1.2.0",
     "model_name": "LayoutModel",
     "state": {
      "_model_module": "@jupyter-widgets/base",
      "_model_module_version": "1.2.0",
      "_model_name": "LayoutModel",
      "_view_count": null,
      "_view_module": "@jupyter-widgets/base",
      "_view_module_version": "1.2.0",
      "_view_name": "LayoutView",
      "align_content": null,
      "align_items": null,
      "align_self": null,
      "border": null,
      "bottom": null,
      "display": null,
      "flex": null,
      "flex_flow": null,
      "grid_area": null,
      "grid_auto_columns": null,
      "grid_auto_flow": null,
      "grid_auto_rows": null,
      "grid_column": null,
      "grid_gap": null,
      "grid_row": null,
      "grid_template_areas": null,
      "grid_template_columns": null,
      "grid_template_rows": null,
      "height": null,
      "justify_content": null,
      "justify_items": null,
      "left": null,
      "margin": null,
      "max_height": null,
      "max_width": null,
      "min_height": null,
      "min_width": null,
      "object_fit": null,
      "object_position": null,
      "order": null,
      "overflow": null,
      "overflow_x": null,
      "overflow_y": null,
      "padding": null,
      "right": null,
      "top": null,
      "visibility": null,
      "width": null
     }
    },
    "348fcd35329842c5a0027ba28b1d95c7": {
     "model_module": "@jupyter-widgets/base",
     "model_module_version": "1.2.0",
     "model_name": "LayoutModel",
     "state": {
      "_model_module": "@jupyter-widgets/base",
      "_model_module_version": "1.2.0",
      "_model_name": "LayoutModel",
      "_view_count": null,
      "_view_module": "@jupyter-widgets/base",
      "_view_module_version": "1.2.0",
      "_view_name": "LayoutView",
      "align_content": null,
      "align_items": null,
      "align_self": null,
      "border": null,
      "bottom": null,
      "display": null,
      "flex": null,
      "flex_flow": null,
      "grid_area": null,
      "grid_auto_columns": null,
      "grid_auto_flow": null,
      "grid_auto_rows": null,
      "grid_column": null,
      "grid_gap": null,
      "grid_row": null,
      "grid_template_areas": null,
      "grid_template_columns": null,
      "grid_template_rows": null,
      "height": null,
      "justify_content": null,
      "justify_items": null,
      "left": null,
      "margin": null,
      "max_height": null,
      "max_width": null,
      "min_height": null,
      "min_width": null,
      "object_fit": null,
      "object_position": null,
      "order": null,
      "overflow": null,
      "overflow_x": null,
      "overflow_y": null,
      "padding": null,
      "right": null,
      "top": null,
      "visibility": null,
      "width": null
     }
    },
    "3c5201efa2164d1a821a53d557dce9d5": {
     "model_module": "@jupyter-widgets/controls",
     "model_module_version": "1.5.0",
     "model_name": "FloatProgressModel",
     "state": {
      "_dom_classes": [],
      "_model_module": "@jupyter-widgets/controls",
      "_model_module_version": "1.5.0",
      "_model_name": "FloatProgressModel",
      "_view_count": null,
      "_view_module": "@jupyter-widgets/controls",
      "_view_module_version": "1.5.0",
      "_view_name": "ProgressView",
      "bar_style": "success",
      "description": "",
      "description_tooltip": null,
      "layout": "IPY_MODEL_0d0bbcc4426a4e6aabea553b801a8861",
      "max": 4042,
      "min": 0,
      "orientation": "horizontal",
      "style": "IPY_MODEL_e5a48f48817845059cc9a3f110a3a156",
      "value": 4042
     }
    },
    "3c9273d4864e438ebd9d8cd977a6ef2b": {
     "model_module": "@jupyter-widgets/controls",
     "model_module_version": "1.5.0",
     "model_name": "DescriptionStyleModel",
     "state": {
      "_model_module": "@jupyter-widgets/controls",
      "_model_module_version": "1.5.0",
      "_model_name": "DescriptionStyleModel",
      "_view_count": null,
      "_view_module": "@jupyter-widgets/base",
      "_view_module_version": "1.2.0",
      "_view_name": "StyleView",
      "description_width": ""
     }
    },
    "416283aaabe14f3d97cd53dc5f49041b": {
     "model_module": "@jupyter-widgets/base",
     "model_module_version": "1.2.0",
     "model_name": "LayoutModel",
     "state": {
      "_model_module": "@jupyter-widgets/base",
      "_model_module_version": "1.2.0",
      "_model_name": "LayoutModel",
      "_view_count": null,
      "_view_module": "@jupyter-widgets/base",
      "_view_module_version": "1.2.0",
      "_view_name": "LayoutView",
      "align_content": null,
      "align_items": null,
      "align_self": null,
      "border": null,
      "bottom": null,
      "display": null,
      "flex": null,
      "flex_flow": null,
      "grid_area": null,
      "grid_auto_columns": null,
      "grid_auto_flow": null,
      "grid_auto_rows": null,
      "grid_column": null,
      "grid_gap": null,
      "grid_row": null,
      "grid_template_areas": null,
      "grid_template_columns": null,
      "grid_template_rows": null,
      "height": null,
      "justify_content": null,
      "justify_items": null,
      "left": null,
      "margin": null,
      "max_height": null,
      "max_width": null,
      "min_height": null,
      "min_width": null,
      "object_fit": null,
      "object_position": null,
      "order": null,
      "overflow": null,
      "overflow_x": null,
      "overflow_y": null,
      "padding": null,
      "right": null,
      "top": null,
      "visibility": null,
      "width": null
     }
    },
    "51b52f8be18540fa894cfb9d2bd6787d": {
     "model_module": "@jupyter-widgets/controls",
     "model_module_version": "1.5.0",
     "model_name": "DescriptionStyleModel",
     "state": {
      "_model_module": "@jupyter-widgets/controls",
      "_model_module_version": "1.5.0",
      "_model_name": "DescriptionStyleModel",
      "_view_count": null,
      "_view_module": "@jupyter-widgets/base",
      "_view_module_version": "1.2.0",
      "_view_name": "StyleView",
      "description_width": ""
     }
    },
    "53f7b381e568414f8086d36e123f67d0": {
     "model_module": "@jupyter-widgets/base",
     "model_module_version": "1.2.0",
     "model_name": "LayoutModel",
     "state": {
      "_model_module": "@jupyter-widgets/base",
      "_model_module_version": "1.2.0",
      "_model_name": "LayoutModel",
      "_view_count": null,
      "_view_module": "@jupyter-widgets/base",
      "_view_module_version": "1.2.0",
      "_view_name": "LayoutView",
      "align_content": null,
      "align_items": null,
      "align_self": null,
      "border": null,
      "bottom": null,
      "display": null,
      "flex": null,
      "flex_flow": null,
      "grid_area": null,
      "grid_auto_columns": null,
      "grid_auto_flow": null,
      "grid_auto_rows": null,
      "grid_column": null,
      "grid_gap": null,
      "grid_row": null,
      "grid_template_areas": null,
      "grid_template_columns": null,
      "grid_template_rows": null,
      "height": null,
      "justify_content": null,
      "justify_items": null,
      "left": null,
      "margin": null,
      "max_height": null,
      "max_width": null,
      "min_height": null,
      "min_width": null,
      "object_fit": null,
      "object_position": null,
      "order": null,
      "overflow": null,
      "overflow_x": null,
      "overflow_y": null,
      "padding": null,
      "right": null,
      "top": null,
      "visibility": null,
      "width": null
     }
    },
    "551cd4985346444f9283e61e157beefa": {
     "model_module": "@jupyter-widgets/controls",
     "model_module_version": "1.5.0",
     "model_name": "FloatProgressModel",
     "state": {
      "_dom_classes": [],
      "_model_module": "@jupyter-widgets/controls",
      "_model_module_version": "1.5.0",
      "_model_name": "FloatProgressModel",
      "_view_count": null,
      "_view_module": "@jupyter-widgets/controls",
      "_view_module_version": "1.5.0",
      "_view_name": "ProgressView",
      "bar_style": "success",
      "description": "",
      "description_tooltip": null,
      "layout": "IPY_MODEL_fd91388bcd9a4bfbb4911097d2c57f9d",
      "max": 3503,
      "min": 0,
      "orientation": "horizontal",
      "style": "IPY_MODEL_a0fb96ebda8e43c5a660fc97ea0bf6c2",
      "value": 3503
     }
    },
    "5b35fac39d3c484b95eba03d012024da": {
     "model_module": "mols2grid",
     "model_module_version": "^2.0.0",
     "model_name": "MolGridModel",
     "state": {
      "_dom_classes": [],
      "_model_module": "mols2grid",
      "_model_module_version": "^2.0.0",
      "_model_name": "MolGridModel",
      "_view_count": null,
      "_view_module": "mols2grid",
      "_view_module_version": "^2.0.0",
      "_view_name": "MolGridView",
      "callback_kwargs": "{}",
      "filter_mask": [],
      "grid_id": "default",
      "layout": "IPY_MODEL_53f7b381e568414f8086d36e123f67d0",
      "selection": "{}"
     }
    },
    "6dc28ac1ec7c46db9b9a0c13dc311f15": {
     "model_module": "@jupyter-widgets/controls",
     "model_module_version": "1.5.0",
     "model_name": "DescriptionStyleModel",
     "state": {
      "_model_module": "@jupyter-widgets/controls",
      "_model_module_version": "1.5.0",
      "_model_name": "DescriptionStyleModel",
      "_view_count": null,
      "_view_module": "@jupyter-widgets/base",
      "_view_module_version": "1.2.0",
      "_view_name": "StyleView",
      "description_width": ""
     }
    },
    "6f4bb8be4cbe443abac6cb5b83b36ca4": {
     "model_module": "@jupyter-widgets/controls",
     "model_module_version": "1.5.0",
     "model_name": "HBoxModel",
     "state": {
      "_dom_classes": [],
      "_model_module": "@jupyter-widgets/controls",
      "_model_module_version": "1.5.0",
      "_model_name": "HBoxModel",
      "_view_count": null,
      "_view_module": "@jupyter-widgets/controls",
      "_view_module_version": "1.5.0",
      "_view_name": "HBoxView",
      "box_style": "",
      "children": [
       "IPY_MODEL_04b5efeac8004c99b82242c5460b2437",
       "IPY_MODEL_551cd4985346444f9283e61e157beefa",
       "IPY_MODEL_aad6e58a83904477bcab2e14e0228e2c"
      ],
      "layout": "IPY_MODEL_416283aaabe14f3d97cd53dc5f49041b"
     }
    },
    "76c4717b4417495f85a1fa664c3f9463": {
     "model_module": "@jupyter-widgets/base",
     "model_module_version": "1.2.0",
     "model_name": "LayoutModel",
     "state": {
      "_model_module": "@jupyter-widgets/base",
      "_model_module_version": "1.2.0",
      "_model_name": "LayoutModel",
      "_view_count": null,
      "_view_module": "@jupyter-widgets/base",
      "_view_module_version": "1.2.0",
      "_view_name": "LayoutView",
      "align_content": null,
      "align_items": null,
      "align_self": null,
      "border": null,
      "bottom": null,
      "display": null,
      "flex": null,
      "flex_flow": null,
      "grid_area": null,
      "grid_auto_columns": null,
      "grid_auto_flow": null,
      "grid_auto_rows": null,
      "grid_column": null,
      "grid_gap": null,
      "grid_row": null,
      "grid_template_areas": null,
      "grid_template_columns": null,
      "grid_template_rows": null,
      "height": null,
      "justify_content": null,
      "justify_items": null,
      "left": null,
      "margin": null,
      "max_height": null,
      "max_width": null,
      "min_height": null,
      "min_width": null,
      "object_fit": null,
      "object_position": null,
      "order": null,
      "overflow": null,
      "overflow_x": null,
      "overflow_y": null,
      "padding": null,
      "right": null,
      "top": null,
      "visibility": null,
      "width": null
     }
    },
    "94452d4cd53f41d7afc956fb783b688d": {
     "model_module": "@jupyter-widgets/base",
     "model_module_version": "1.2.0",
     "model_name": "LayoutModel",
     "state": {
      "_model_module": "@jupyter-widgets/base",
      "_model_module_version": "1.2.0",
      "_model_name": "LayoutModel",
      "_view_count": null,
      "_view_module": "@jupyter-widgets/base",
      "_view_module_version": "1.2.0",
      "_view_name": "LayoutView",
      "align_content": null,
      "align_items": null,
      "align_self": null,
      "border": null,
      "bottom": null,
      "display": null,
      "flex": null,
      "flex_flow": null,
      "grid_area": null,
      "grid_auto_columns": null,
      "grid_auto_flow": null,
      "grid_auto_rows": null,
      "grid_column": null,
      "grid_gap": null,
      "grid_row": null,
      "grid_template_areas": null,
      "grid_template_columns": null,
      "grid_template_rows": null,
      "height": null,
      "justify_content": null,
      "justify_items": null,
      "left": null,
      "margin": null,
      "max_height": null,
      "max_width": null,
      "min_height": null,
      "min_width": null,
      "object_fit": null,
      "object_position": null,
      "order": null,
      "overflow": null,
      "overflow_x": null,
      "overflow_y": null,
      "padding": null,
      "right": null,
      "top": null,
      "visibility": null,
      "width": null
     }
    },
    "a0fb96ebda8e43c5a660fc97ea0bf6c2": {
     "model_module": "@jupyter-widgets/controls",
     "model_module_version": "1.5.0",
     "model_name": "ProgressStyleModel",
     "state": {
      "_model_module": "@jupyter-widgets/controls",
      "_model_module_version": "1.5.0",
      "_model_name": "ProgressStyleModel",
      "_view_count": null,
      "_view_module": "@jupyter-widgets/base",
      "_view_module_version": "1.2.0",
      "_view_name": "StyleView",
      "bar_color": null,
      "description_width": ""
     }
    },
    "aad6e58a83904477bcab2e14e0228e2c": {
     "model_module": "@jupyter-widgets/controls",
     "model_module_version": "1.5.0",
     "model_name": "HTMLModel",
     "state": {
      "_dom_classes": [],
      "_model_module": "@jupyter-widgets/controls",
      "_model_module_version": "1.5.0",
      "_model_name": "HTMLModel",
      "_view_count": null,
      "_view_module": "@jupyter-widgets/controls",
      "_view_module_version": "1.5.0",
      "_view_name": "HTMLView",
      "description": "",
      "description_tooltip": null,
      "layout": "IPY_MODEL_76c4717b4417495f85a1fa664c3f9463",
      "placeholder": "​",
      "style": "IPY_MODEL_51b52f8be18540fa894cfb9d2bd6787d",
      "value": " 3503/3503 [00:36&lt;00:00, 148.28it/s]"
     }
    },
    "b0991e69654f47a09907d5fa8252df33": {
     "model_module": "@jupyter-widgets/controls",
     "model_module_version": "1.5.0",
     "model_name": "HTMLModel",
     "state": {
      "_dom_classes": [],
      "_model_module": "@jupyter-widgets/controls",
      "_model_module_version": "1.5.0",
      "_model_name": "HTMLModel",
      "_view_count": null,
      "_view_module": "@jupyter-widgets/controls",
      "_view_module_version": "1.5.0",
      "_view_name": "HTMLView",
      "description": "",
      "description_tooltip": null,
      "layout": "IPY_MODEL_05806be5c5c84c18a936ba7945ee110c",
      "placeholder": "​",
      "style": "IPY_MODEL_3c9273d4864e438ebd9d8cd977a6ef2b",
      "value": "100%"
     }
    },
    "b46d5e18ac5c4a1a83763bd5ebf51696": {
     "model_module": "@jupyter-widgets/controls",
     "model_module_version": "1.5.0",
     "model_name": "HTMLModel",
     "state": {
      "_dom_classes": [],
      "_model_module": "@jupyter-widgets/controls",
      "_model_module_version": "1.5.0",
      "_model_name": "HTMLModel",
      "_view_count": null,
      "_view_module": "@jupyter-widgets/controls",
      "_view_module_version": "1.5.0",
      "_view_name": "HTMLView",
      "description": "",
      "description_tooltip": null,
      "layout": "IPY_MODEL_f9d9bd6280a743759d85a0f30933cc86",
      "placeholder": "​",
      "style": "IPY_MODEL_ca184fcf540f4943a7fdc3fb4d55d046",
      "value": " 4042/4042 [00:00&lt;00:00, 4378.98it/s]"
     }
    },
    "ca184fcf540f4943a7fdc3fb4d55d046": {
     "model_module": "@jupyter-widgets/controls",
     "model_module_version": "1.5.0",
     "model_name": "DescriptionStyleModel",
     "state": {
      "_model_module": "@jupyter-widgets/controls",
      "_model_module_version": "1.5.0",
      "_model_name": "DescriptionStyleModel",
      "_view_count": null,
      "_view_module": "@jupyter-widgets/base",
      "_view_module_version": "1.2.0",
      "_view_name": "StyleView",
      "description_width": ""
     }
    },
    "cec04f0eded14022ac2ec4219227a08e": {
     "model_module": "mols2grid",
     "model_module_version": "^2.0.0",
     "model_name": "MolGridModel",
     "state": {
      "_dom_classes": [],
      "_model_module": "mols2grid",
      "_model_module_version": "^2.0.0",
      "_model_name": "MolGridModel",
      "_view_count": null,
      "_view_module": "mols2grid",
      "_view_module_version": "^2.0.0",
      "_view_name": "MolGridView",
      "callback_kwargs": "{}",
      "filter_mask": [],
      "grid_id": "default",
      "layout": "IPY_MODEL_94452d4cd53f41d7afc956fb783b688d",
      "selection": "{}"
     }
    },
    "e5a48f48817845059cc9a3f110a3a156": {
     "model_module": "@jupyter-widgets/controls",
     "model_module_version": "1.5.0",
     "model_name": "ProgressStyleModel",
     "state": {
      "_model_module": "@jupyter-widgets/controls",
      "_model_module_version": "1.5.0",
      "_model_name": "ProgressStyleModel",
      "_view_count": null,
      "_view_module": "@jupyter-widgets/base",
      "_view_module_version": "1.2.0",
      "_view_name": "StyleView",
      "bar_color": null,
      "description_width": ""
     }
    },
    "f7890ac11ccd473082f0de0911310ac8": {
     "model_module": "@jupyter-widgets/base",
     "model_module_version": "1.2.0",
     "model_name": "LayoutModel",
     "state": {
      "_model_module": "@jupyter-widgets/base",
      "_model_module_version": "1.2.0",
      "_model_name": "LayoutModel",
      "_view_count": null,
      "_view_module": "@jupyter-widgets/base",
      "_view_module_version": "1.2.0",
      "_view_name": "LayoutView",
      "align_content": null,
      "align_items": null,
      "align_self": null,
      "border": null,
      "bottom": null,
      "display": null,
      "flex": null,
      "flex_flow": null,
      "grid_area": null,
      "grid_auto_columns": null,
      "grid_auto_flow": null,
      "grid_auto_rows": null,
      "grid_column": null,
      "grid_gap": null,
      "grid_row": null,
      "grid_template_areas": null,
      "grid_template_columns": null,
      "grid_template_rows": null,
      "height": null,
      "justify_content": null,
      "justify_items": null,
      "left": null,
      "margin": null,
      "max_height": null,
      "max_width": null,
      "min_height": null,
      "min_width": null,
      "object_fit": null,
      "object_position": null,
      "order": null,
      "overflow": null,
      "overflow_x": null,
      "overflow_y": null,
      "padding": null,
      "right": null,
      "top": null,
      "visibility": null,
      "width": null
     }
    },
    "f9d9bd6280a743759d85a0f30933cc86": {
     "model_module": "@jupyter-widgets/base",
     "model_module_version": "1.2.0",
     "model_name": "LayoutModel",
     "state": {
      "_model_module": "@jupyter-widgets/base",
      "_model_module_version": "1.2.0",
      "_model_name": "LayoutModel",
      "_view_count": null,
      "_view_module": "@jupyter-widgets/base",
      "_view_module_version": "1.2.0",
      "_view_name": "LayoutView",
      "align_content": null,
      "align_items": null,
      "align_self": null,
      "border": null,
      "bottom": null,
      "display": null,
      "flex": null,
      "flex_flow": null,
      "grid_area": null,
      "grid_auto_columns": null,
      "grid_auto_flow": null,
      "grid_auto_rows": null,
      "grid_column": null,
      "grid_gap": null,
      "grid_row": null,
      "grid_template_areas": null,
      "grid_template_columns": null,
      "grid_template_rows": null,
      "height": null,
      "justify_content": null,
      "justify_items": null,
      "left": null,
      "margin": null,
      "max_height": null,
      "max_width": null,
      "min_height": null,
      "min_width": null,
      "object_fit": null,
      "object_position": null,
      "order": null,
      "overflow": null,
      "overflow_x": null,
      "overflow_y": null,
      "padding": null,
      "right": null,
      "top": null,
      "visibility": null,
      "width": null
     }
    },
    "fd91388bcd9a4bfbb4911097d2c57f9d": {
     "model_module": "@jupyter-widgets/base",
     "model_module_version": "1.2.0",
     "model_name": "LayoutModel",
     "state": {
      "_model_module": "@jupyter-widgets/base",
      "_model_module_version": "1.2.0",
      "_model_name": "LayoutModel",
      "_view_count": null,
      "_view_module": "@jupyter-widgets/base",
      "_view_module_version": "1.2.0",
      "_view_name": "LayoutView",
      "align_content": null,
      "align_items": null,
      "align_self": null,
      "border": null,
      "bottom": null,
      "display": null,
      "flex": null,
      "flex_flow": null,
      "grid_area": null,
      "grid_auto_columns": null,
      "grid_auto_flow": null,
      "grid_auto_rows": null,
      "grid_column": null,
      "grid_gap": null,
      "grid_row": null,
      "grid_template_areas": null,
      "grid_template_columns": null,
      "grid_template_rows": null,
      "height": null,
      "justify_content": null,
      "justify_items": null,
      "left": null,
      "margin": null,
      "max_height": null,
      "max_width": null,
      "min_height": null,
      "min_width": null,
      "object_fit": null,
      "object_position": null,
      "order": null,
      "overflow": null,
      "overflow_x": null,
      "overflow_y": null,
      "padding": null,
      "right": null,
      "top": null,
      "visibility": null,
      "width": null
     }
    }
   }
  }
 },
 "nbformat": 4,
 "nbformat_minor": 5
}
