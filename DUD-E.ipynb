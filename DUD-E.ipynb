{
 "cells": [
  {
   "cell_type": "markdown",
   "metadata": {
    "id": "FJpHthE60TBJ"
   },
   "source": [
    "# 가상 스크리닝\n",
    "\n",
    "\n",
    "- 어떤 조건을 만족하는 분자를 찾아내는 작업을 화학 실험을 수행하지 않고 머신러닝 모델로 찾는 것을 말한다\n",
    "- 여기서는 예제로 ERK2 단백질을 억제하는 분자를 선별하는 모델을 만든다\n",
    " - Extracellular signal-regulated kinase (다수의 생화학적 신호에 관여하고 세포의 증식 분화 전사조절에 관여)\n",
    " - 비소세포성 폐암 non-small cell lung cancer과 흑색종(피부암)에 대해 임상시험중\n",
    "\n",
    "- 그래프 컨볼류션 모델을 사용한다"
   ]
  },
  {
   "cell_type": "markdown",
   "metadata": {
    "id": "2OpzBVDCDT3t"
   },
   "source": [
    "# import"
   ]
  },
  {
   "cell_type": "code",
   "execution_count": 3,
   "metadata": {
    "colab": {
     "base_uri": "https://localhost:8080/"
    },
    "collapsed": true,
    "id": "bd95Jgdy2As-",
    "outputId": "92a10b0b-b086-4f7d-cbfc-4a4b49924c48"
   },
   "outputs": [
    {
     "name": "stdout",
     "output_type": "stream",
     "text": [
      "Requirement already satisfied: DeepChem in /home/dilab239/anaconda3/lib/python3.11/site-packages (2.5.0)\n",
      "Requirement already satisfied: joblib in /home/dilab239/anaconda3/lib/python3.11/site-packages (from DeepChem) (1.2.0)\n",
      "Requirement already satisfied: numpy in /home/dilab239/anaconda3/lib/python3.11/site-packages (from DeepChem) (1.24.3)\n",
      "Requirement already satisfied: pandas in /home/dilab239/anaconda3/lib/python3.11/site-packages (from DeepChem) (2.0.3)\n",
      "Requirement already satisfied: scikit-learn in /home/dilab239/anaconda3/lib/python3.11/site-packages (from DeepChem) (1.3.0)\n",
      "Requirement already satisfied: scipy in /home/dilab239/anaconda3/lib/python3.11/site-packages (from DeepChem) (1.11.3)\n",
      "Requirement already satisfied: python-dateutil>=2.8.2 in /home/dilab239/anaconda3/lib/python3.11/site-packages (from pandas->DeepChem) (2.8.2)\n",
      "Requirement already satisfied: pytz>=2020.1 in /home/dilab239/anaconda3/lib/python3.11/site-packages (from pandas->DeepChem) (2023.3.post1)\n",
      "Requirement already satisfied: tzdata>=2022.1 in /home/dilab239/anaconda3/lib/python3.11/site-packages (from pandas->DeepChem) (2023.3)\n",
      "Requirement already satisfied: threadpoolctl>=2.0.0 in /home/dilab239/anaconda3/lib/python3.11/site-packages (from scikit-learn->DeepChem) (2.2.0)\n",
      "Requirement already satisfied: six>=1.5 in /home/dilab239/anaconda3/lib/python3.11/site-packages (from python-dateutil>=2.8.2->pandas->DeepChem) (1.16.0)\n"
     ]
    }
   ],
   "source": [
    "!pip install "
   ]
  },
  {
   "cell_type": "code",
   "execution_count": 7,
   "metadata": {
    "colab": {
     "base_uri": "https://localhost:8080/"
    },
    "id": "UGcjm8HGz4yT",
    "outputId": "cbd215a9-b6ed-4a77-82ea-4877215124a0"
   },
   "outputs": [
    {
     "name": "stderr",
     "output_type": "stream",
     "text": [
      "2023-11-12 19:31:07.545619: I tensorflow/core/platform/cpu_feature_guard.cc:193] This TensorFlow binary is optimized with oneAPI Deep Neural Network Library (oneDNN) to use the following CPU instructions in performance-critical operations:  AVX2 AVX512F AVX512_VNNI FMA\n",
      "To enable them in other operations, rebuild TensorFlow with the appropriate compiler flags.\n",
      "2023-11-12 19:31:07.694256: I tensorflow/core/util/util.cc:169] oneDNN custom operations are on. You may see slightly different numerical results due to floating-point round-off errors from different computation orders. To turn them off, set the environment variable `TF_ENABLE_ONEDNN_OPTS=0`.\n",
      "2023-11-12 19:31:07.730572: E tensorflow/stream_executor/cuda/cuda_blas.cc:2981] Unable to register cuBLAS factory: Attempting to register factory for plugin cuBLAS when one has already been registered\n",
      "2023-11-12 19:31:08.457347: W tensorflow/stream_executor/platform/default/dso_loader.cc:64] Could not load dynamic library 'libnvinfer.so.7'; dlerror: libnvinfer.so.7: cannot open shared object file: No such file or directory; LD_LIBRARY_PATH: /usr/local/cuda/lib64::/usr/local/cuda/lib64::/usr/local/cuda-11.4/lib64\n",
      "2023-11-12 19:31:08.457455: W tensorflow/stream_executor/platform/default/dso_loader.cc:64] Could not load dynamic library 'libnvinfer_plugin.so.7'; dlerror: libnvinfer_plugin.so.7: cannot open shared object file: No such file or directory; LD_LIBRARY_PATH: /usr/local/cuda/lib64::/usr/local/cuda/lib64::/usr/local/cuda-11.4/lib64\n",
      "2023-11-12 19:31:08.457463: W tensorflow/compiler/tf2tensorrt/utils/py_utils.cc:38] TF-TRT Warning: Cannot dlopen some TensorRT libraries. If you would like to use Nvidia GPU with TensorRT, please make sure the missing libraries mentioned above are installed properly.\n",
      "Skipped loading modules with pytorch-geometric dependency, missing a dependency. No module named 'torch_geometric'\n",
      "Skipped loading modules with pytorch-geometric dependency, missing a dependency. cannot import name 'DMPNN' from 'deepchem.models.torch_models' (/home/dilab239/anaconda3/envs/AI_study/lib/python3.10/site-packages/deepchem/models/torch_models/__init__.py)\n",
      "Skipped loading modules with pytorch-lightning dependency, missing a dependency. No module named 'pytorch_lightning'\n",
      "Skipped loading some Jax models, missing a dependency. No module named 'jax'\n"
     ]
    }
   ],
   "source": [
    "import deepchem as dc\n",
    "from rdkit import Chem\n",
    "from rdkit.Chem import AllChem\n",
    "from rdkit.Chem import Draw\n",
    "from rdkit.Chem.Draw import IPythonConsole\n",
    "from rdkit.Chem import PandasTools\n",
    "from rdkit.Chem import Descriptors\n",
    "from rdkit.Chem import rdmolops\n",
    "from rdkit import DataStructs\n",
    "from rdkit.ML.Cluster import Butina\n",
    "from rdkit.Chem import rdMolDescriptors as rdmd\n",
    "from deepchem.models import GraphConvModel"
   ]
  },
  {
   "cell_type": "code",
   "execution_count": 8,
   "metadata": {
    "id": "WtF6y49KFIN4"
   },
   "outputs": [],
   "source": [
    "import numpy as np\n",
    "import pandas as pd\n",
    "import sys\n",
    "import seaborn as sns\n",
    "%config InlineBackend.figure_format = 'retina'\n",
    "from tqdm.auto import tqdm\n",
    "import warnings\n",
    "warnings.filterwarnings(\"ignore\")"
   ]
  },
  {
   "cell_type": "markdown",
   "metadata": {
    "id": "PzA-0qesDcZS"
   },
   "source": [
    "# 데이터\n",
    "\n",
    "- DUD-E 데이터베이스에서 활성 및 비활성 분자 데이터를 다운받아 사용한다\n",
    "- 분자 데이터는 SMILES 로 표현되어 있으며 이를 데이터프레임에 불러온다\n",
    "- AddMoleculeColumnToFrame()를 사용해 SMILES에 해당하는 Mol 객체를 데이터프레임에 추가할 수 있다"
   ]
  },
  {
   "cell_type": "code",
   "execution_count": 9,
   "metadata": {
    "colab": {
     "base_uri": "https://localhost:8080/",
     "height": 161
    },
    "id": "CPqIv1_8z4yU",
    "outputId": "94f7bacf-9a56-4eb1-c115-da8a4733791f"
   },
   "outputs": [
    {
     "name": "stdout",
     "output_type": "stream",
     "text": [
      "(79, 3)\n"
     ]
    },
    {
     "data": {
      "text/html": [
       "<div>\n",
       "<style scoped>\n",
       "    .dataframe tbody tr th:only-of-type {\n",
       "        vertical-align: middle;\n",
       "    }\n",
       "\n",
       "    .dataframe tbody tr th {\n",
       "        vertical-align: top;\n",
       "    }\n",
       "\n",
       "    .dataframe thead th {\n",
       "        text-align: right;\n",
       "    }\n",
       "</style>\n",
       "<table border=\"1\" class=\"dataframe\">\n",
       "  <thead>\n",
       "    <tr style=\"text-align: right;\">\n",
       "      <th></th>\n",
       "      <th>SMILES</th>\n",
       "      <th>ID</th>\n",
       "      <th>ChEMBL_ID</th>\n",
       "    </tr>\n",
       "  </thead>\n",
       "  <tbody>\n",
       "    <tr>\n",
       "      <th>0</th>\n",
       "      <td>Cn1ccnc1Sc2ccc(cc2Cl)Nc3c4cc(c(cc4ncc3C#N)OCCC...</td>\n",
       "      <td>168691</td>\n",
       "      <td>CHEMBL318804</td>\n",
       "    </tr>\n",
       "    <tr>\n",
       "      <th>1</th>\n",
       "      <td>C[C@@]12[C@@H]([C@@H](CC(O1)n3c4ccccc4c5c3c6n2...</td>\n",
       "      <td>86358</td>\n",
       "      <td>CHEMBL162</td>\n",
       "    </tr>\n",
       "    <tr>\n",
       "      <th>2</th>\n",
       "      <td>Cc1cnc(nc1c2cc([nH]c2)C(=O)N[C@H](CO)c3cccc(c3...</td>\n",
       "      <td>575087</td>\n",
       "      <td>CHEMBL576683</td>\n",
       "    </tr>\n",
       "  </tbody>\n",
       "</table>\n",
       "</div>"
      ],
      "text/plain": [
       "                                              SMILES      ID     ChEMBL_ID\n",
       "0  Cn1ccnc1Sc2ccc(cc2Cl)Nc3c4cc(c(cc4ncc3C#N)OCCC...  168691  CHEMBL318804\n",
       "1  C[C@@]12[C@@H]([C@@H](CC(O1)n3c4ccccc4c5c3c6n2...   86358     CHEMBL162\n",
       "2  Cc1cnc(nc1c2cc([nH]c2)C(=O)N[C@H](CO)c3cccc(c3...  575087  CHEMBL576683"
      ]
     },
     "execution_count": 9,
     "metadata": {},
     "output_type": "execute_result"
    }
   ],
   "source": [
    "active_df = pd.read_csv(\"./data/actives_final.ism\", names=['SMILES', 'ID', 'ChEMBL_ID'], header=None,sep=\" \")\n",
    "print(active_df.shape)\n",
    "active_df[:3]"
   ]
  },
  {
   "cell_type": "code",
   "execution_count": 10,
   "metadata": {
    "id": "H_-k5gyHsoeM"
   },
   "outputs": [],
   "source": [
    "active_rows, active_cols = active_df.shape\n",
    "active_df.columns = [\"SMILES\",\"ID\",\"ChEMBL_ID\"]\n",
    "active_df[\"label\"] = [\"Active\"]*active_rows\n",
    "PandasTools.AddMoleculeColumnToFrame(active_df,\"SMILES\",\"Mol\")"
   ]
  },
  {
   "cell_type": "code",
   "execution_count": 11,
   "metadata": {
    "colab": {
     "base_uri": "https://localhost:8080/",
     "height": 239
    },
    "id": "Q_1JyOPgs8A-",
    "outputId": "e7f1a020-70bd-420d-9294-2c5dbab4e6d4"
   },
   "outputs": [
    {
     "data": {
      "text/html": [
       "<div>\n",
       "<style scoped>\n",
       "    .dataframe tbody tr th:only-of-type {\n",
       "        vertical-align: middle;\n",
       "    }\n",
       "\n",
       "    .dataframe tbody tr th {\n",
       "        vertical-align: top;\n",
       "    }\n",
       "\n",
       "    .dataframe thead th {\n",
       "        text-align: right;\n",
       "    }\n",
       "</style>\n",
       "<table border=\"1\" class=\"dataframe\">\n",
       "  <thead>\n",
       "    <tr style=\"text-align: right;\">\n",
       "      <th></th>\n",
       "      <th>SMILES</th>\n",
       "      <th>ID</th>\n",
       "      <th>ChEMBL_ID</th>\n",
       "      <th>label</th>\n",
       "      <th>Mol</th>\n",
       "    </tr>\n",
       "  </thead>\n",
       "  <tbody>\n",
       "    <tr>\n",
       "      <th>0</th>\n",
       "      <td>Cn1ccnc1Sc2ccc(cc2Cl)Nc3c4cc(c(cc4ncc3C#N)OCCC...</td>\n",
       "      <td>168691</td>\n",
       "      <td>CHEMBL318804</td>\n",
       "      <td>Active</td>\n",
       "      <td>&lt;rdkit.Chem.rdchem.Mol object at 0x7ff1b0bfec70&gt;</td>\n",
       "    </tr>\n",
       "    <tr>\n",
       "      <th>1</th>\n",
       "      <td>C[C@@]12[C@@H]([C@@H](CC(O1)n3c4ccccc4c5c3c6n2...</td>\n",
       "      <td>86358</td>\n",
       "      <td>CHEMBL162</td>\n",
       "      <td>Active</td>\n",
       "      <td>&lt;rdkit.Chem.rdchem.Mol object at 0x7ff1b0bfeb90&gt;</td>\n",
       "    </tr>\n",
       "    <tr>\n",
       "      <th>2</th>\n",
       "      <td>Cc1cnc(nc1c2cc([nH]c2)C(=O)N[C@H](CO)c3cccc(c3...</td>\n",
       "      <td>575087</td>\n",
       "      <td>CHEMBL576683</td>\n",
       "      <td>Active</td>\n",
       "      <td>&lt;rdkit.Chem.rdchem.Mol object at 0x7ff1b0bfec00&gt;</td>\n",
       "    </tr>\n",
       "  </tbody>\n",
       "</table>\n",
       "</div>"
      ],
      "text/plain": [
       "                                              SMILES      ID     ChEMBL_ID  \\\n",
       "0  Cn1ccnc1Sc2ccc(cc2Cl)Nc3c4cc(c(cc4ncc3C#N)OCCC...  168691  CHEMBL318804   \n",
       "1  C[C@@]12[C@@H]([C@@H](CC(O1)n3c4ccccc4c5c3c6n2...   86358     CHEMBL162   \n",
       "2  Cc1cnc(nc1c2cc([nH]c2)C(=O)N[C@H](CO)c3cccc(c3...  575087  CHEMBL576683   \n",
       "\n",
       "    label                                               Mol  \n",
       "0  Active  <rdkit.Chem.rdchem.Mol object at 0x7ff1b0bfec70>  \n",
       "1  Active  <rdkit.Chem.rdchem.Mol object at 0x7ff1b0bfeb90>  \n",
       "2  Active  <rdkit.Chem.rdchem.Mol object at 0x7ff1b0bfec00>  "
      ]
     },
     "execution_count": 11,
     "metadata": {},
     "output_type": "execute_result"
    }
   ],
   "source": [
    "active_df[:3]"
   ]
  },
  {
   "cell_type": "markdown",
   "metadata": {
    "id": "m5xtBXHRz4yU"
   },
   "source": [
    "## 특성값 추가\n",
    "- 분자량 molecular weight\n",
    "- 분배 계수 partition coefficeint(LogP)\n",
    "- 전하 charge (양인지 음인지)"
   ]
  },
  {
   "cell_type": "code",
   "execution_count": 12,
   "metadata": {
    "id": "IqjKaT8Ez4yU"
   },
   "outputs": [],
   "source": [
    "def add_property_columns_to_df(df_in):\n",
    "    df_in[\"mw\"] = [Descriptors.MolWt(mol) for mol in df_in.Mol]\n",
    "    df_in[\"logP\"] = [Descriptors.MolLogP(mol) for mol in df_in.Mol]\n",
    "    df_in[\"charge\"] = [rdmolops.GetFormalCharge(mol) for mol in df_in.Mol]"
   ]
  },
  {
   "cell_type": "code",
   "execution_count": 13,
   "metadata": {
    "colab": {
     "base_uri": "https://localhost:8080/",
     "height": 444
    },
    "id": "hS4OpyOiz4yV",
    "outputId": "4fd4f187-25dc-41cf-9a87-997e1298e608"
   },
   "outputs": [
    {
     "data": {
      "text/html": [
       "<div>\n",
       "<style scoped>\n",
       "    .dataframe tbody tr th:only-of-type {\n",
       "        vertical-align: middle;\n",
       "    }\n",
       "\n",
       "    .dataframe tbody tr th {\n",
       "        vertical-align: top;\n",
       "    }\n",
       "\n",
       "    .dataframe thead th {\n",
       "        text-align: right;\n",
       "    }\n",
       "</style>\n",
       "<table border=\"1\" class=\"dataframe\">\n",
       "  <thead>\n",
       "    <tr style=\"text-align: right;\">\n",
       "      <th></th>\n",
       "      <th>SMILES</th>\n",
       "      <th>ID</th>\n",
       "      <th>ChEMBL_ID</th>\n",
       "      <th>label</th>\n",
       "      <th>Mol</th>\n",
       "      <th>mw</th>\n",
       "      <th>logP</th>\n",
       "      <th>charge</th>\n",
       "    </tr>\n",
       "  </thead>\n",
       "  <tbody>\n",
       "    <tr>\n",
       "      <th>0</th>\n",
       "      <td>Cn1ccnc1Sc2ccc(cc2Cl)Nc3c4cc(c(cc4ncc3C#N)OCCC...</td>\n",
       "      <td>168691</td>\n",
       "      <td>CHEMBL318804</td>\n",
       "      <td>Active</td>\n",
       "      <td>&lt;rdkit.Chem.rdchem.Mol object at 0x7ff1b0bfec70&gt;</td>\n",
       "      <td>565.099</td>\n",
       "      <td>5.49788</td>\n",
       "      <td>0</td>\n",
       "    </tr>\n",
       "    <tr>\n",
       "      <th>1</th>\n",
       "      <td>C[C@@]12[C@@H]([C@@H](CC(O1)n3c4ccccc4c5c3c6n2...</td>\n",
       "      <td>86358</td>\n",
       "      <td>CHEMBL162</td>\n",
       "      <td>Active</td>\n",
       "      <td>&lt;rdkit.Chem.rdchem.Mol object at 0x7ff1b0bfeb90&gt;</td>\n",
       "      <td>466.541</td>\n",
       "      <td>4.35400</td>\n",
       "      <td>0</td>\n",
       "    </tr>\n",
       "    <tr>\n",
       "      <th>2</th>\n",
       "      <td>Cc1cnc(nc1c2cc([nH]c2)C(=O)N[C@H](CO)c3cccc(c3...</td>\n",
       "      <td>575087</td>\n",
       "      <td>CHEMBL576683</td>\n",
       "      <td>Active</td>\n",
       "      <td>&lt;rdkit.Chem.rdchem.Mol object at 0x7ff1b0bfec00&gt;</td>\n",
       "      <td>527.915</td>\n",
       "      <td>4.96202</td>\n",
       "      <td>0</td>\n",
       "    </tr>\n",
       "    <tr>\n",
       "      <th>3</th>\n",
       "      <td>Cc1cnc(nc1c2cc([nH]c2)C(=O)N[C@H](CO)c3cccc(c3...</td>\n",
       "      <td>575065</td>\n",
       "      <td>CHEMBL571484</td>\n",
       "      <td>Active</td>\n",
       "      <td>&lt;rdkit.Chem.rdchem.Mol object at 0x7ff1b0bfed50&gt;</td>\n",
       "      <td>491.935</td>\n",
       "      <td>4.36922</td>\n",
       "      <td>0</td>\n",
       "    </tr>\n",
       "    <tr>\n",
       "      <th>4</th>\n",
       "      <td>Cc1cnc(nc1c2cc([nH]c2)C(=O)N[C@H](CO)c3cccc(c3...</td>\n",
       "      <td>575047</td>\n",
       "      <td>CHEMBL568937</td>\n",
       "      <td>Active</td>\n",
       "      <td>&lt;rdkit.Chem.rdchem.Mol object at 0x7ff1b0bfedc0&gt;</td>\n",
       "      <td>487.991</td>\n",
       "      <td>5.12922</td>\n",
       "      <td>0</td>\n",
       "    </tr>\n",
       "  </tbody>\n",
       "</table>\n",
       "</div>"
      ],
      "text/plain": [
       "                                              SMILES      ID     ChEMBL_ID  \\\n",
       "0  Cn1ccnc1Sc2ccc(cc2Cl)Nc3c4cc(c(cc4ncc3C#N)OCCC...  168691  CHEMBL318804   \n",
       "1  C[C@@]12[C@@H]([C@@H](CC(O1)n3c4ccccc4c5c3c6n2...   86358     CHEMBL162   \n",
       "2  Cc1cnc(nc1c2cc([nH]c2)C(=O)N[C@H](CO)c3cccc(c3...  575087  CHEMBL576683   \n",
       "3  Cc1cnc(nc1c2cc([nH]c2)C(=O)N[C@H](CO)c3cccc(c3...  575065  CHEMBL571484   \n",
       "4  Cc1cnc(nc1c2cc([nH]c2)C(=O)N[C@H](CO)c3cccc(c3...  575047  CHEMBL568937   \n",
       "\n",
       "    label                                               Mol       mw     logP  \\\n",
       "0  Active  <rdkit.Chem.rdchem.Mol object at 0x7ff1b0bfec70>  565.099  5.49788   \n",
       "1  Active  <rdkit.Chem.rdchem.Mol object at 0x7ff1b0bfeb90>  466.541  4.35400   \n",
       "2  Active  <rdkit.Chem.rdchem.Mol object at 0x7ff1b0bfec00>  527.915  4.96202   \n",
       "3  Active  <rdkit.Chem.rdchem.Mol object at 0x7ff1b0bfed50>  491.935  4.36922   \n",
       "4  Active  <rdkit.Chem.rdchem.Mol object at 0x7ff1b0bfedc0>  487.991  5.12922   \n",
       "\n",
       "   charge  \n",
       "0       0  \n",
       "1       0  \n",
       "2       0  \n",
       "3       0  \n",
       "4       0  "
      ]
     },
     "execution_count": 13,
     "metadata": {},
     "output_type": "execute_result"
    }
   ],
   "source": [
    "add_property_columns_to_df(active_df)\n",
    "active_df.head()"
   ]
  },
  {
   "cell_type": "markdown",
   "metadata": {
    "id": "zjnUULUtz4yW"
   },
   "source": [
    "## 비활성화 데이터"
   ]
  },
  {
   "cell_type": "code",
   "execution_count": 14,
   "metadata": {
    "id": "YI5vDzKfz4yX"
   },
   "outputs": [],
   "source": [
    "decoy_df = pd.read_csv(\"./data/decoys_final.ism\", header=None,sep=\" \")\n",
    "decoy_df.columns = [\"SMILES\",\"ID\"]\n",
    "decoy_rows, decoy_cols = decoy_df.shape\n",
    "decoy_df[\"label\"] = [\"Decoy\"]*decoy_rows\n",
    "PandasTools.AddMoleculeColumnToFrame(decoy_df,\"SMILES\",\"Mol\")\n",
    "add_property_columns_to_df(decoy_df)"
   ]
  },
  {
   "cell_type": "markdown",
   "metadata": {
    "id": "3r8nfyuPEfAX"
   },
   "source": [
    "- 활성 및 비확성 데이터를 합친다"
   ]
  },
  {
   "cell_type": "code",
   "execution_count": 15,
   "metadata": {
    "colab": {
     "base_uri": "https://localhost:8080/"
    },
    "id": "0OrArJbcz4yX",
    "outputId": "c2c67d78-57b5-44f6-8604-2e6d3d0648cf"
   },
   "outputs": [
    {
     "name": "stdout",
     "output_type": "stream",
     "text": [
      "(4629, 8)\n"
     ]
    },
    {
     "data": {
      "text/html": [
       "<div>\n",
       "<style scoped>\n",
       "    .dataframe tbody tr th:only-of-type {\n",
       "        vertical-align: middle;\n",
       "    }\n",
       "\n",
       "    .dataframe tbody tr th {\n",
       "        vertical-align: top;\n",
       "    }\n",
       "\n",
       "    .dataframe thead th {\n",
       "        text-align: right;\n",
       "    }\n",
       "</style>\n",
       "<table border=\"1\" class=\"dataframe\">\n",
       "  <thead>\n",
       "    <tr style=\"text-align: right;\">\n",
       "      <th></th>\n",
       "      <th>SMILES</th>\n",
       "      <th>ID</th>\n",
       "      <th>ChEMBL_ID</th>\n",
       "      <th>label</th>\n",
       "      <th>Mol</th>\n",
       "      <th>mw</th>\n",
       "      <th>logP</th>\n",
       "      <th>charge</th>\n",
       "    </tr>\n",
       "  </thead>\n",
       "  <tbody>\n",
       "    <tr>\n",
       "      <th>0</th>\n",
       "      <td>Cn1ccnc1Sc2ccc(cc2Cl)Nc3c4cc(c(cc4ncc3C#N)OCCC...</td>\n",
       "      <td>168691</td>\n",
       "      <td>CHEMBL318804</td>\n",
       "      <td>Active</td>\n",
       "      <td>&lt;rdkit.Chem.rdchem.Mol object at 0x7ff1b0bfec70&gt;</td>\n",
       "      <td>565.099</td>\n",
       "      <td>5.49788</td>\n",
       "      <td>0</td>\n",
       "    </tr>\n",
       "    <tr>\n",
       "      <th>1</th>\n",
       "      <td>C[C@@]12[C@@H]([C@@H](CC(O1)n3c4ccccc4c5c3c6n2...</td>\n",
       "      <td>86358</td>\n",
       "      <td>CHEMBL162</td>\n",
       "      <td>Active</td>\n",
       "      <td>&lt;rdkit.Chem.rdchem.Mol object at 0x7ff1b0bfeb90&gt;</td>\n",
       "      <td>466.541</td>\n",
       "      <td>4.35400</td>\n",
       "      <td>0</td>\n",
       "    </tr>\n",
       "    <tr>\n",
       "      <th>2</th>\n",
       "      <td>Cc1cnc(nc1c2cc([nH]c2)C(=O)N[C@H](CO)c3cccc(c3...</td>\n",
       "      <td>575087</td>\n",
       "      <td>CHEMBL576683</td>\n",
       "      <td>Active</td>\n",
       "      <td>&lt;rdkit.Chem.rdchem.Mol object at 0x7ff1b0bfec00&gt;</td>\n",
       "      <td>527.915</td>\n",
       "      <td>4.96202</td>\n",
       "      <td>0</td>\n",
       "    </tr>\n",
       "    <tr>\n",
       "      <th>3</th>\n",
       "      <td>Cc1cnc(nc1c2cc([nH]c2)C(=O)N[C@H](CO)c3cccc(c3...</td>\n",
       "      <td>575065</td>\n",
       "      <td>CHEMBL571484</td>\n",
       "      <td>Active</td>\n",
       "      <td>&lt;rdkit.Chem.rdchem.Mol object at 0x7ff1b0bfed50&gt;</td>\n",
       "      <td>491.935</td>\n",
       "      <td>4.36922</td>\n",
       "      <td>0</td>\n",
       "    </tr>\n",
       "    <tr>\n",
       "      <th>4</th>\n",
       "      <td>Cc1cnc(nc1c2cc([nH]c2)C(=O)N[C@H](CO)c3cccc(c3...</td>\n",
       "      <td>575047</td>\n",
       "      <td>CHEMBL568937</td>\n",
       "      <td>Active</td>\n",
       "      <td>&lt;rdkit.Chem.rdchem.Mol object at 0x7ff1b0bfedc0&gt;</td>\n",
       "      <td>487.991</td>\n",
       "      <td>5.12922</td>\n",
       "      <td>0</td>\n",
       "    </tr>\n",
       "    <tr>\n",
       "      <th>...</th>\n",
       "      <td>...</td>\n",
       "      <td>...</td>\n",
       "      <td>...</td>\n",
       "      <td>...</td>\n",
       "      <td>...</td>\n",
       "      <td>...</td>\n",
       "      <td>...</td>\n",
       "      <td>...</td>\n",
       "    </tr>\n",
       "    <tr>\n",
       "      <th>4545</th>\n",
       "      <td>CCOc1ccc(cc1[N+](=O)[O-])C(=O)OCCSc2cc(c(c(c2)...</td>\n",
       "      <td>C57324840</td>\n",
       "      <td>NaN</td>\n",
       "      <td>Decoy</td>\n",
       "      <td>&lt;rdkit.Chem.rdchem.Mol object at 0x7ff1b09bab20&gt;</td>\n",
       "      <td>494.569</td>\n",
       "      <td>5.81174</td>\n",
       "      <td>0</td>\n",
       "    </tr>\n",
       "    <tr>\n",
       "      <th>4546</th>\n",
       "      <td>Cc1cc(cc(c1NC(=O)c2ccccc2)C)SCCOC(=O)c3cc(ccc3...</td>\n",
       "      <td>C57324854</td>\n",
       "      <td>NaN</td>\n",
       "      <td>Decoy</td>\n",
       "      <td>&lt;rdkit.Chem.rdchem.Mol object at 0x7ff1b09bab90&gt;</td>\n",
       "      <td>519.623</td>\n",
       "      <td>6.01324</td>\n",
       "      <td>0</td>\n",
       "    </tr>\n",
       "    <tr>\n",
       "      <th>4547</th>\n",
       "      <td>CCc1ccc(cc1)O[C@@H](C)c2nnc(n2C)SCC(=O)Nc3c(c4...</td>\n",
       "      <td>C13871253</td>\n",
       "      <td>NaN</td>\n",
       "      <td>Decoy</td>\n",
       "      <td>&lt;rdkit.Chem.rdchem.Mol object at 0x7ff1b09bac00&gt;</td>\n",
       "      <td>528.700</td>\n",
       "      <td>5.36530</td>\n",
       "      <td>0</td>\n",
       "    </tr>\n",
       "    <tr>\n",
       "      <th>4548</th>\n",
       "      <td>C=CCSc1ccccc1NC(=O)CSc2nnc(n2c3ccccc3)c4ccc(cc...</td>\n",
       "      <td>C59791396</td>\n",
       "      <td>NaN</td>\n",
       "      <td>Decoy</td>\n",
       "      <td>&lt;rdkit.Chem.rdchem.Mol object at 0x7ff1b09bac70&gt;</td>\n",
       "      <td>503.609</td>\n",
       "      <td>5.85140</td>\n",
       "      <td>0</td>\n",
       "    </tr>\n",
       "    <tr>\n",
       "      <th>4549</th>\n",
       "      <td>CCc1cccc(c1)NC(=O)CSc2nc3c(nn(c3c(=O)n2Cc4cccc...</td>\n",
       "      <td>C64817272</td>\n",
       "      <td>NaN</td>\n",
       "      <td>Decoy</td>\n",
       "      <td>&lt;rdkit.Chem.rdchem.Mol object at 0x7ff1b09bace0&gt;</td>\n",
       "      <td>491.617</td>\n",
       "      <td>4.27142</td>\n",
       "      <td>0</td>\n",
       "    </tr>\n",
       "  </tbody>\n",
       "</table>\n",
       "<p>4629 rows × 8 columns</p>\n",
       "</div>"
      ],
      "text/plain": [
       "                                                 SMILES         ID  \\\n",
       "0     Cn1ccnc1Sc2ccc(cc2Cl)Nc3c4cc(c(cc4ncc3C#N)OCCC...     168691   \n",
       "1     C[C@@]12[C@@H]([C@@H](CC(O1)n3c4ccccc4c5c3c6n2...      86358   \n",
       "2     Cc1cnc(nc1c2cc([nH]c2)C(=O)N[C@H](CO)c3cccc(c3...     575087   \n",
       "3     Cc1cnc(nc1c2cc([nH]c2)C(=O)N[C@H](CO)c3cccc(c3...     575065   \n",
       "4     Cc1cnc(nc1c2cc([nH]c2)C(=O)N[C@H](CO)c3cccc(c3...     575047   \n",
       "...                                                 ...        ...   \n",
       "4545  CCOc1ccc(cc1[N+](=O)[O-])C(=O)OCCSc2cc(c(c(c2)...  C57324840   \n",
       "4546  Cc1cc(cc(c1NC(=O)c2ccccc2)C)SCCOC(=O)c3cc(ccc3...  C57324854   \n",
       "4547  CCc1ccc(cc1)O[C@@H](C)c2nnc(n2C)SCC(=O)Nc3c(c4...  C13871253   \n",
       "4548  C=CCSc1ccccc1NC(=O)CSc2nnc(n2c3ccccc3)c4ccc(cc...  C59791396   \n",
       "4549  CCc1cccc(c1)NC(=O)CSc2nc3c(nn(c3c(=O)n2Cc4cccc...  C64817272   \n",
       "\n",
       "         ChEMBL_ID   label                                               Mol  \\\n",
       "0     CHEMBL318804  Active  <rdkit.Chem.rdchem.Mol object at 0x7ff1b0bfec70>   \n",
       "1        CHEMBL162  Active  <rdkit.Chem.rdchem.Mol object at 0x7ff1b0bfeb90>   \n",
       "2     CHEMBL576683  Active  <rdkit.Chem.rdchem.Mol object at 0x7ff1b0bfec00>   \n",
       "3     CHEMBL571484  Active  <rdkit.Chem.rdchem.Mol object at 0x7ff1b0bfed50>   \n",
       "4     CHEMBL568937  Active  <rdkit.Chem.rdchem.Mol object at 0x7ff1b0bfedc0>   \n",
       "...            ...     ...                                               ...   \n",
       "4545           NaN   Decoy  <rdkit.Chem.rdchem.Mol object at 0x7ff1b09bab20>   \n",
       "4546           NaN   Decoy  <rdkit.Chem.rdchem.Mol object at 0x7ff1b09bab90>   \n",
       "4547           NaN   Decoy  <rdkit.Chem.rdchem.Mol object at 0x7ff1b09bac00>   \n",
       "4548           NaN   Decoy  <rdkit.Chem.rdchem.Mol object at 0x7ff1b09bac70>   \n",
       "4549           NaN   Decoy  <rdkit.Chem.rdchem.Mol object at 0x7ff1b09bace0>   \n",
       "\n",
       "           mw     logP  charge  \n",
       "0     565.099  5.49788       0  \n",
       "1     466.541  4.35400       0  \n",
       "2     527.915  4.96202       0  \n",
       "3     491.935  4.36922       0  \n",
       "4     487.991  5.12922       0  \n",
       "...       ...      ...     ...  \n",
       "4545  494.569  5.81174       0  \n",
       "4546  519.623  6.01324       0  \n",
       "4547  528.700  5.36530       0  \n",
       "4548  503.609  5.85140       0  \n",
       "4549  491.617  4.27142       0  \n",
       "\n",
       "[4629 rows x 8 columns]"
      ]
     },
     "execution_count": 15,
     "metadata": {},
     "output_type": "execute_result"
    }
   ],
   "source": [
    "tmp_df = pd.concat([active_df, decoy_df])\n",
    "print(tmp_df.shape)\n",
    "tmp_df"
   ]
  },
  {
   "cell_type": "markdown",
   "metadata": {
    "id": "KxfG36Osz4yX"
   },
   "source": [
    "## 데이터 탐색\n",
    "\n",
    "- violin plot"
   ]
  },
  {
   "cell_type": "code",
   "execution_count": 16,
   "metadata": {
    "colab": {
     "base_uri": "https://localhost:8080/",
     "height": 449
    },
    "id": "B0NyoEDmz4yX",
    "outputId": "989c20a4-b51a-494e-b8aa-90261964d81f"
   },
   "outputs": [
    {
     "data": {
      "image/png": "[encoded data removed]",
      "text/plain": [
       "<Figure size 640x480 with 1 Axes>"
      ]
     },
     "metadata": {
      "image/png": {
       "height": 432,
       "width": 571
      }
     },
     "output_type": "display_data"
    }
   ],
   "source": [
    "sns.violinplot(x=tmp_df[\"label\"],y=tmp_df[\"mw\"]);"
   ]
  },
  {
   "cell_type": "markdown",
   "metadata": {
    "id": "FzLVdAN5z4yX"
   },
   "source": [
    "- 위 그래프를 보면 분자량 분포는 비슷하다\n",
    "- 400mw 이하의 분자들이 비활성 분자 데이터셋에 좀 더 많이 들어 있다"
   ]
  },
  {
   "cell_type": "code",
   "execution_count": 17,
   "metadata": {
    "colab": {
     "base_uri": "https://localhost:8080/",
     "height": 449
    },
    "id": "MCGBGDW8z4yY",
    "outputId": "165f84e9-28ce-45d7-fee0-0dee76a83ae0"
   },
   "outputs": [
    {
     "data": {
      "image/png": "[encoded data removed]",
      "text/plain": [
       "<Figure size 640x480 with 1 Axes>"
      ]
     },
     "metadata": {
      "image/png": {
       "height": 432,
       "width": 565
      }
     },
     "output_type": "display_data"
    }
   ],
   "source": [
    "sns.violinplot(x=tmp_df[\"label\"],y=tmp_df[\"logP\"]);"
   ]
  },
  {
   "cell_type": "code",
   "execution_count": 18,
   "metadata": {
    "colab": {
     "base_uri": "https://localhost:8080/",
     "height": 449
    },
    "id": "M2cvDR9mz4yY",
    "outputId": "a71e5575-4eb8-444f-e9b6-162b36266180"
   },
   "outputs": [
    {
     "data": {
      "image/png": "[encoded data removed]",
      "text/plain": [
       "<Figure size 640x480 with 1 Axes>"
      ]
     },
     "metadata": {
      "image/png": {
       "height": 432,
       "width": 579
      }
     },
     "output_type": "display_data"
    }
   ],
   "source": [
    "sns.violinplot(x=tmp_df[\"label\"],y=tmp_df[\"charge\"]);"
   ]
  },
  {
   "cell_type": "markdown",
   "metadata": {
    "id": "EnY2ge1Ez4yY"
   },
   "source": [
    "- 활성 분자는 모두 중성이다\n",
    "- 비활성 분자는 일부 +1과 -1이 있다"
   ]
  },
  {
   "cell_type": "code",
   "execution_count": 19,
   "metadata": {
    "colab": {
     "base_uri": "https://localhost:8080/"
    },
    "id": "nsxlupqbz4yY",
    "outputId": "ac5e9827-1850-4b0e-8ab7-868bab3ad5be"
   },
   "outputs": [
    {
     "data": {
      "text/plain": [
       "0.16175824175824177"
      ]
     },
     "execution_count": 19,
     "metadata": {},
     "output_type": "execute_result"
    }
   ],
   "source": [
    "charged = decoy_df[decoy_df[\"charge\"] != 0]\n",
    "charged.shape[0]/decoy_df.shape[0]"
   ]
  },
  {
   "cell_type": "markdown",
   "metadata": {
    "id": "fNEBUWSuz4yZ"
   },
   "source": [
    "- 비활성 분자의 16%가 전하를 띠고 있다\n",
    "- 전하 차이에 의해 머신러닝 모델이 바이어스가 생기게 되므로, 비활성 분자의 화학 구조를 수정하여 전하를 제거하겠다\n",
    "- 아래는 이를 위한 함수 정의이다"
   ]
  },
  {
   "cell_type": "code",
   "execution_count": 20,
   "metadata": {
    "id": "YebLfFHFDkdk"
   },
   "outputs": [],
   "source": [
    "def _InitialiseNeutralisationReactions():\n",
    "    patts= (\n",
    "        # Imidazoles\n",
    "        ('[n+;H]','n'),\n",
    "        # Amines\n",
    "        ('[N+;!H0]','N'),\n",
    "        # Carboxylic acids and alcohols\n",
    "        ('[$([O-]);!$([O-][#7])]','O'),\n",
    "        # Thiols\n",
    "        ('[S-;X1]','S'),\n",
    "        # Sulfonamides\n",
    "        ('[$([N-;X2]S(=O)=O)]','N'),\n",
    "        # Enamines\n",
    "        ('[$([N-;X2][C,N]=C)]','N'),\n",
    "        # Tetrazoles\n",
    "        ('[n-]','[nH]'),\n",
    "        # Sulfoxides\n",
    "        ('[$([S-]=O)]','S'),\n",
    "        # Amides\n",
    "        ('[$([N-]C=O)]','N'),\n",
    "        )\n",
    "    return [(Chem.MolFromSmarts(x),Chem.MolFromSmiles(y,False)) for x,y in patts]\n",
    "\n",
    "_reactions=None\n",
    "\n",
    "def NeutraliseCharges(smiles, reactions=None):\n",
    "    global _reactions\n",
    "    if reactions is None:\n",
    "        if _reactions is None:\n",
    "            _reactions=_InitialiseNeutralisationReactions()\n",
    "        reactions=_reactions\n",
    "    mol = Chem.MolFromSmiles(smiles)\n",
    "    replaced = False\n",
    "    for i,(reactant, product) in enumerate(reactions):\n",
    "        while mol.HasSubstructMatch(reactant):\n",
    "            replaced = True\n",
    "            rms = AllChem.ReplaceSubstructs(mol, reactant, product)\n",
    "            mol = rms[0]\n",
    "    if replaced:\n",
    "        return (Chem.MolToSmiles(mol,True), True)\n",
    "    else:\n",
    "        return (smiles, False)"
   ]
  },
  {
   "cell_type": "code",
   "execution_count": 21,
   "metadata": {
    "id": "v9zT1W4lz4yZ"
   },
   "outputs": [],
   "source": [
    "revised_decoy_df = decoy_df[[\"SMILES\",\"ID\",\"label\"]].copy()"
   ]
  },
  {
   "cell_type": "markdown",
   "metadata": {
    "id": "HjqjW_sSz4yZ"
   },
   "source": [
    "- 중성화된 SMILES는 첫 번째 컬럼에 들어 있다"
   ]
  },
  {
   "cell_type": "code",
   "execution_count": 22,
   "metadata": {
    "id": "kmCa_bK0z4yZ"
   },
   "outputs": [],
   "source": [
    "revised_decoy_df[\"SMILES\"] = [NeutraliseCharges(x)[0] for x in revised_decoy_df[\"SMILES\"]]\n"
   ]
  },
  {
   "cell_type": "code",
   "execution_count": 23,
   "metadata": {
    "colab": {
     "base_uri": "https://localhost:8080/"
    },
    "id": "biGul6sTuVXT",
    "outputId": "47edd887-fa8c-4a71-c386-1dd74ed1fb68"
   },
   "outputs": [
    {
     "data": {
      "text/plain": [
       "(4550, 3)"
      ]
     },
     "execution_count": 23,
     "metadata": {},
     "output_type": "execute_result"
    }
   ],
   "source": [
    "revised_decoy_df.shape"
   ]
  },
  {
   "cell_type": "markdown",
   "metadata": {
    "id": "RJAuMomNz4yZ"
   },
   "source": [
    "- 특성을 다시 계산한다\n",
    "- 전하를 띤 샘플의 수가 감소했다"
   ]
  },
  {
   "cell_type": "code",
   "execution_count": 24,
   "metadata": {
    "id": "HO9X1SmLz4yZ"
   },
   "outputs": [],
   "source": [
    "PandasTools.AddMoleculeColumnToFrame(revised_decoy_df,\"SMILES\",\"Mol\")\n",
    "add_property_columns_to_df(revised_decoy_df)"
   ]
  },
  {
   "cell_type": "code",
   "execution_count": 26,
   "metadata": {
    "id": "7pcGOamBz4yZ"
   },
   "outputs": [],
   "source": [
    "new_tmp_df = pd.concat([active_df, revised_decoy_df])"
   ]
  },
  {
   "cell_type": "code",
   "execution_count": 27,
   "metadata": {
    "colab": {
     "base_uri": "https://localhost:8080/",
     "height": 467
    },
    "id": "i1HO5iHNz4yZ",
    "outputId": "7c94de40-8ba6-4908-89a7-3633cb894cb6"
   },
   "outputs": [
    {
     "data": {
      "text/plain": [
       "<Axes: xlabel='label', ylabel='charge'>"
      ]
     },
     "execution_count": 27,
     "metadata": {},
     "output_type": "execute_result"
    },
    {
     "data": {
      "image/png": "[encoded data removed]",
      "text/plain": [
       "<Figure size 640x480 with 1 Axes>"
      ]
     },
     "metadata": {
      "image/png": {
       "height": 432,
       "width": 587
      }
     },
     "output_type": "display_data"
    }
   ],
   "source": [
    "sns.violinplot(x=new_tmp_df[\"label\"],y=new_tmp_df[\"charge\"])"
   ]
  },
  {
   "cell_type": "code",
   "execution_count": 28,
   "metadata": {
    "colab": {
     "base_uri": "https://localhost:8080/"
    },
    "id": "2F5f08LRz4yZ",
    "outputId": "53c5a234-37a3-47bd-bf61-194d7978ba7b"
   },
   "outputs": [
    {
     "data": {
      "text/plain": [
       "0.0026373626373626374"
      ]
     },
     "execution_count": 28,
     "metadata": {},
     "output_type": "execute_result"
    }
   ],
   "source": [
    "charged = revised_decoy_df[revised_decoy_df[\"charge\"] != 0]\n",
    "charged.shape[0]/revised_decoy_df.shape[0]"
   ]
  },
  {
   "cell_type": "markdown",
   "metadata": {
    "id": "kmoGr0jtz4ya"
   },
   "source": [
    "- 활성을 1로 비활성을 0으로 인코딩한다"
   ]
  },
  {
   "cell_type": "code",
   "execution_count": 30,
   "metadata": {
    "colab": {
     "base_uri": "https://localhost:8080/",
     "height": 206
    },
    "id": "VVc_Gm_Uz4ya",
    "outputId": "3da8895d-0149-47db-b02d-45d05476ee1e"
   },
   "outputs": [
    {
     "data": {
      "text/html": [
       "<div>\n",
       "<style scoped>\n",
       "    .dataframe tbody tr th:only-of-type {\n",
       "        vertical-align: middle;\n",
       "    }\n",
       "\n",
       "    .dataframe tbody tr th {\n",
       "        vertical-align: top;\n",
       "    }\n",
       "\n",
       "    .dataframe thead th {\n",
       "        text-align: right;\n",
       "    }\n",
       "</style>\n",
       "<table border=\"1\" class=\"dataframe\">\n",
       "  <thead>\n",
       "    <tr style=\"text-align: right;\">\n",
       "      <th></th>\n",
       "      <th>SMILES</th>\n",
       "      <th>ID</th>\n",
       "      <th>is_active</th>\n",
       "    </tr>\n",
       "  </thead>\n",
       "  <tbody>\n",
       "    <tr>\n",
       "      <th>0</th>\n",
       "      <td>Cn1ccnc1Sc2ccc(cc2Cl)Nc3c4cc(c(cc4ncc3C#N)OCCC...</td>\n",
       "      <td>168691</td>\n",
       "      <td>1</td>\n",
       "    </tr>\n",
       "    <tr>\n",
       "      <th>1</th>\n",
       "      <td>C[C@@]12[C@@H]([C@@H](CC(O1)n3c4ccccc4c5c3c6n2...</td>\n",
       "      <td>86358</td>\n",
       "      <td>1</td>\n",
       "    </tr>\n",
       "    <tr>\n",
       "      <th>2</th>\n",
       "      <td>Cc1cnc(nc1c2cc([nH]c2)C(=O)N[C@H](CO)c3cccc(c3...</td>\n",
       "      <td>575087</td>\n",
       "      <td>1</td>\n",
       "    </tr>\n",
       "    <tr>\n",
       "      <th>3</th>\n",
       "      <td>Cc1cnc(nc1c2cc([nH]c2)C(=O)N[C@H](CO)c3cccc(c3...</td>\n",
       "      <td>575065</td>\n",
       "      <td>1</td>\n",
       "    </tr>\n",
       "    <tr>\n",
       "      <th>4</th>\n",
       "      <td>Cc1cnc(nc1c2cc([nH]c2)C(=O)N[C@H](CO)c3cccc(c3...</td>\n",
       "      <td>575047</td>\n",
       "      <td>1</td>\n",
       "    </tr>\n",
       "  </tbody>\n",
       "</table>\n",
       "</div>"
      ],
      "text/plain": [
       "                                              SMILES      ID  is_active\n",
       "0  Cn1ccnc1Sc2ccc(cc2Cl)Nc3c4cc(c(cc4ncc3C#N)OCCC...  168691          1\n",
       "1  C[C@@]12[C@@H]([C@@H](CC(O1)n3c4ccccc4c5c3c6n2...   86358          1\n",
       "2  Cc1cnc(nc1c2cc([nH]c2)C(=O)N[C@H](CO)c3cccc(c3...  575087          1\n",
       "3  Cc1cnc(nc1c2cc([nH]c2)C(=O)N[C@H](CO)c3cccc(c3...  575065          1\n",
       "4  Cc1cnc(nc1c2cc([nH]c2)C(=O)N[C@H](CO)c3cccc(c3...  575047          1"
      ]
     },
     "execution_count": 30,
     "metadata": {},
     "output_type": "execute_result"
    }
   ],
   "source": [
    "active_df[\"is_active\"] = [1] * active_df.shape[0]\n",
    "revised_decoy_df[\"is_active\"] = [0] * revised_decoy_df.shape[0]\n",
    "combined_df = pd.concat([active_df, revised_decoy_df])[[\"SMILES\",\"ID\",\"is_active\"]]\n",
    "combined_df.head()"
   ]
  },
  {
   "cell_type": "code",
   "execution_count": 31,
   "metadata": {
    "id": "1NDR_A5oz4ya"
   },
   "outputs": [],
   "source": [
    "# 전처리한 데이터를 파일로 저장해둔다\n",
    "combined_df.to_csv(\"./data/dude_erk1_mk01.csv\")"
   ]
  },
  {
   "cell_type": "code",
   "execution_count": null,
   "metadata": {},
   "outputs": [],
   "source": []
  }
 ],
 "metadata": {
  "accelerator": "GPU",
  "colab": {
   "provenance": [],
   "toc_visible": true
  },
  "kernelspec": {
   "display_name": "AI_study",
   "language": "python",
   "name": "ai_study"
  },
  "language_info": {
   "codemirror_mode": {
    "name": "ipython",
    "version": 3
   },
   "file_extension": ".py",
   "mimetype": "text/x-python",
   "name": "python",
   "nbconvert_exporter": "python",
   "pygments_lexer": "ipython3",
   "version": "3.10.12"
  },
  "toc": {
   "base_numbering": 1,
   "nav_menu": {},
   "number_sections": false,
   "sideBar": true,
   "skip_h1_title": false,
   "title_cell": "Table of Contents",
   "title_sidebar": "Contents",
   "toc_cell": false,
   "toc_position": {},
   "toc_section_display": true,
   "toc_window_display": true
  },
  "widgets": {
   "application/vnd.jupyter.widget-state+json": {
    "19a9a72be8624323885add5609b4cfaf": {
     "model_module": "@jupyter-widgets/controls",
     "model_module_version": "1.5.0",
     "model_name": "HBoxModel",
     "state": {
      "_dom_classes": [],
      "_model_module": "@jupyter-widgets/controls",
      "_model_module_version": "1.5.0",
      "_model_name": "HBoxModel",
      "_view_count": null,
      "_view_module": "@jupyter-widgets/controls",
      "_view_module_version": "1.5.0",
      "_view_name": "HBoxView",
      "box_style": "",
      "children": [
       "IPY_MODEL_5520786526e34414904cefb8d9777640",
       "IPY_MODEL_41900eab09114eec9ef818f46f50a3e3",
       "IPY_MODEL_4bb1628e25ee4375ac0e70bbb2d3de9c"
      ],
      "layout": "IPY_MODEL_addf9798861d43b9a6ab635129824389"
     }
    },
    "29403c9e4ba34f7e9f346c9e8c3f7e92": {
     "model_module": "@jupyter-widgets/base",
     "model_module_version": "1.2.0",
     "model_name": "LayoutModel",
     "state": {
      "_model_module": "@jupyter-widgets/base",
      "_model_module_version": "1.2.0",
      "_model_name": "LayoutModel",
      "_view_count": null,
      "_view_module": "@jupyter-widgets/base",
      "_view_module_version": "1.2.0",
      "_view_name": "LayoutView",
      "align_content": null,
      "align_items": null,
      "align_self": null,
      "border": null,
      "bottom": null,
      "display": null,
      "flex": null,
      "flex_flow": null,
      "grid_area": null,
      "grid_auto_columns": null,
      "grid_auto_flow": null,
      "grid_auto_rows": null,
      "grid_column": null,
      "grid_gap": null,
      "grid_row": null,
      "grid_template_areas": null,
      "grid_template_columns": null,
      "grid_template_rows": null,
      "height": null,
      "justify_content": null,
      "justify_items": null,
      "left": null,
      "margin": null,
      "max_height": null,
      "max_width": null,
      "min_height": null,
      "min_width": null,
      "object_fit": null,
      "object_position": null,
      "order": null,
      "overflow": null,
      "overflow_x": null,
      "overflow_y": null,
      "padding": null,
      "right": null,
      "top": null,
      "visibility": null,
      "width": null
     }
    },
    "41900eab09114eec9ef818f46f50a3e3": {
     "model_module": "@jupyter-widgets/controls",
     "model_module_version": "1.5.0",
     "model_name": "FloatProgressModel",
     "state": {
      "_dom_classes": [],
      "_model_module": "@jupyter-widgets/controls",
      "_model_module_version": "1.5.0",
      "_model_name": "FloatProgressModel",
      "_view_count": null,
      "_view_module": "@jupyter-widgets/controls",
      "_view_module_version": "1.5.0",
      "_view_name": "ProgressView",
      "bar_style": "success",
      "description": "",
      "description_tooltip": null,
      "layout": "IPY_MODEL_29403c9e4ba34f7e9f346c9e8c3f7e92",
      "max": 5,
      "min": 0,
      "orientation": "horizontal",
      "style": "IPY_MODEL_b69f3a9a497744ec876d789759dd0238",
      "value": 5
     }
    },
    "4bb1628e25ee4375ac0e70bbb2d3de9c": {
     "model_module": "@jupyter-widgets/controls",
     "model_module_version": "1.5.0",
     "model_name": "HTMLModel",
     "state": {
      "_dom_classes": [],
      "_model_module": "@jupyter-widgets/controls",
      "_model_module_version": "1.5.0",
      "_model_name": "HTMLModel",
      "_view_count": null,
      "_view_module": "@jupyter-widgets/controls",
      "_view_module_version": "1.5.0",
      "_view_name": "HTMLView",
      "description": "",
      "description_tooltip": null,
      "layout": "IPY_MODEL_c1f6a97df0e742ef9413405a6f694e54",
      "placeholder": "​",
      "style": "IPY_MODEL_bdee7671d9f34e9684058f5a2cd7b6cd",
      "value": " 5/5 [03:18&lt;00:00, 37.10s/it]"
     }
    },
    "5520786526e34414904cefb8d9777640": {
     "model_module": "@jupyter-widgets/controls",
     "model_module_version": "1.5.0",
     "model_name": "HTMLModel",
     "state": {
      "_dom_classes": [],
      "_model_module": "@jupyter-widgets/controls",
      "_model_module_version": "1.5.0",
      "_model_name": "HTMLModel",
      "_view_count": null,
      "_view_module": "@jupyter-widgets/controls",
      "_view_module_version": "1.5.0",
      "_view_name": "HTMLView",
      "description": "",
      "description_tooltip": null,
      "layout": "IPY_MODEL_e3b2dd113f7649089b3746a49232a231",
      "placeholder": "​",
      "style": "IPY_MODEL_6224e68de939443f9b1a7b717c2dc796",
      "value": "100%"
     }
    },
    "6224e68de939443f9b1a7b717c2dc796": {
     "model_module": "@jupyter-widgets/controls",
     "model_module_version": "1.5.0",
     "model_name": "DescriptionStyleModel",
     "state": {
      "_model_module": "@jupyter-widgets/controls",
      "_model_module_version": "1.5.0",
      "_model_name": "DescriptionStyleModel",
      "_view_count": null,
      "_view_module": "@jupyter-widgets/base",
      "_view_module_version": "1.2.0",
      "_view_name": "StyleView",
      "description_width": ""
     }
    },
    "addf9798861d43b9a6ab635129824389": {
     "model_module": "@jupyter-widgets/base",
     "model_module_version": "1.2.0",
     "model_name": "LayoutModel",
     "state": {
      "_model_module": "@jupyter-widgets/base",
      "_model_module_version": "1.2.0",
      "_model_name": "LayoutModel",
      "_view_count": null,
      "_view_module": "@jupyter-widgets/base",
      "_view_module_version": "1.2.0",
      "_view_name": "LayoutView",
      "align_content": null,
      "align_items": null,
      "align_self": null,
      "border": null,
      "bottom": null,
      "display": null,
      "flex": null,
      "flex_flow": null,
      "grid_area": null,
      "grid_auto_columns": null,
      "grid_auto_flow": null,
      "grid_auto_rows": null,
      "grid_column": null,
      "grid_gap": null,
      "grid_row": null,
      "grid_template_areas": null,
      "grid_template_columns": null,
      "grid_template_rows": null,
      "height": null,
      "justify_content": null,
      "justify_items": null,
      "left": null,
      "margin": null,
      "max_height": null,
      "max_width": null,
      "min_height": null,
      "min_width": null,
      "object_fit": null,
      "object_position": null,
      "order": null,
      "overflow": null,
      "overflow_x": null,
      "overflow_y": null,
      "padding": null,
      "right": null,
      "top": null,
      "visibility": null,
      "width": null
     }
    },
    "b69f3a9a497744ec876d789759dd0238": {
     "model_module": "@jupyter-widgets/controls",
     "model_module_version": "1.5.0",
     "model_name": "ProgressStyleModel",
     "state": {
      "_model_module": "@jupyter-widgets/controls",
      "_model_module_version": "1.5.0",
      "_model_name": "ProgressStyleModel",
      "_view_count": null,
      "_view_module": "@jupyter-widgets/base",
      "_view_module_version": "1.2.0",
      "_view_name": "StyleView",
      "bar_color": null,
      "description_width": ""
     }
    },
    "bdee7671d9f34e9684058f5a2cd7b6cd": {
     "model_module": "@jupyter-widgets/controls",
     "model_module_version": "1.5.0",
     "model_name": "DescriptionStyleModel",
     "state": {
      "_model_module": "@jupyter-widgets/controls",
      "_model_module_version": "1.5.0",
      "_model_name": "DescriptionStyleModel",
      "_view_count": null,
      "_view_module": "@jupyter-widgets/base",
      "_view_module_version": "1.2.0",
      "_view_name": "StyleView",
      "description_width": ""
     }
    },
    "c1f6a97df0e742ef9413405a6f694e54": {
     "model_module": "@jupyter-widgets/base",
     "model_module_version": "1.2.0",
     "model_name": "LayoutModel",
     "state": {
      "_model_module": "@jupyter-widgets/base",
      "_model_module_version": "1.2.0",
      "_model_name": "LayoutModel",
      "_view_count": null,
      "_view_module": "@jupyter-widgets/base",
      "_view_module_version": "1.2.0",
      "_view_name": "LayoutView",
      "align_content": null,
      "align_items": null,
      "align_self": null,
      "border": null,
      "bottom": null,
      "display": null,
      "flex": null,
      "flex_flow": null,
      "grid_area": null,
      "grid_auto_columns": null,
      "grid_auto_flow": null,
      "grid_auto_rows": null,
      "grid_column": null,
      "grid_gap": null,
      "grid_row": null,
      "grid_template_areas": null,
      "grid_template_columns": null,
      "grid_template_rows": null,
      "height": null,
      "justify_content": null,
      "justify_items": null,
      "left": null,
      "margin": null,
      "max_height": null,
      "max_width": null,
      "min_height": null,
      "min_width": null,
      "object_fit": null,
      "object_position": null,
      "order": null,
      "overflow": null,
      "overflow_x": null,
      "overflow_y": null,
      "padding": null,
      "right": null,
      "top": null,
      "visibility": null,
      "width": null
     }
    },
    "e3b2dd113f7649089b3746a49232a231": {
     "model_module": "@jupyter-widgets/base",
     "model_module_version": "1.2.0",
     "model_name": "LayoutModel",
     "state": {
      "_model_module": "@jupyter-widgets/base",
      "_model_module_version": "1.2.0",
      "_model_name": "LayoutModel",
      "_view_count": null,
      "_view_module": "@jupyter-widgets/base",
      "_view_module_version": "1.2.0",
      "_view_name": "LayoutView",
      "align_content": null,
      "align_items": null,
      "align_self": null,
      "border": null,
      "bottom": null,
      "display": null,
      "flex": null,
      "flex_flow": null,
      "grid_area": null,
      "grid_auto_columns": null,
      "grid_auto_flow": null,
      "grid_auto_rows": null,
      "grid_column": null,
      "grid_gap": null,
      "grid_row": null,
      "grid_template_areas": null,
      "grid_template_columns": null,
      "grid_template_rows": null,
      "height": null,
      "justify_content": null,
      "justify_items": null,
      "left": null,
      "margin": null,
      "max_height": null,
      "max_width": null,
      "min_height": null,
      "min_width": null,
      "object_fit": null,
      "object_position": null,
      "order": null,
      "overflow": null,
      "overflow_x": null,
      "overflow_y": null,
      "padding": null,
      "right": null,
      "top": null,
      "visibility": null,
      "width": null
     }
    }
   }
  }
 },
 "nbformat": 4,
 "nbformat_minor": 1
}
